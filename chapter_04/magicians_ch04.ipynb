{
  "cells": [
    {
      "metadata": {
        "trusted": true
      },
      "cell_type": "code",
      "source": "##In this chapter we are looking at the use of loops in Python",
      "execution_count": null,
      "outputs": []
    },
    {
      "metadata": {
        "trusted": true
      },
      "cell_type": "code",
      "source": "#For loops",
      "execution_count": null,
      "outputs": []
    },
    {
      "metadata": {
        "trusted": true
      },
      "cell_type": "code",
      "source": "#For every magician in the list of magicians, print the magician's name\nmagicians = ['houdini', 'david', 'criss']\nfor magician in magicians:\n    print(magician)",
      "execution_count": 1,
      "outputs": [
        {
          "output_type": "stream",
          "text": "houdini\ndavid\ncriss\n",
          "name": "stdout"
        }
      ]
    },
    {
      "metadata": {
        "trusted": true
      },
      "cell_type": "code",
      "source": "for magician in magicians:\n    print(f\"{magician.title()}, that was a great trick!\")",
      "execution_count": 2,
      "outputs": [
        {
          "output_type": "stream",
          "text": "Houdini, that was a great trick!\nDavid, that was a great trick!\nCriss, that was a great trick!\n",
          "name": "stdout"
        }
      ]
    },
    {
      "metadata": {
        "trusted": true
      },
      "cell_type": "code",
      "source": "for magician in magicians:\n    print(f\"{magician.title()}, that was a great trick!\")\n    print(f\"I can't wait to see your next trick, {magician.title()}.\\n\")",
      "execution_count": 3,
      "outputs": [
        {
          "output_type": "stream",
          "text": "Houdini, that was a great trick!\nI can't wait to see your next trick, Houdini.\n\nDavid, that was a great trick!\nI can't wait to see your next trick, David.\n\nCriss, that was a great trick!\nI can't wait to see your next trick, Criss.\n\n",
          "name": "stdout"
        }
      ]
    },
    {
      "metadata": {
        "trusted": true
      },
      "cell_type": "code",
      "source": "#You can continue outside of a for loop by not indenting the nxt line of code\nfor magician in magicians:\n    print(f\"{magician.title()}, that was a great trick!\")\n    print(f\"I can't wait to see your next trick, {magician.title()}.\\n\")\nprint(\"Thank you everyone, that was a fantastic show!\")",
      "execution_count": 4,
      "outputs": [
        {
          "output_type": "stream",
          "text": "Houdini, that was a great trick!\nI can't wait to see your next trick, Houdini.\n\nDavid, that was a great trick!\nI can't wait to see your next trick, David.\n\nCriss, that was a great trick!\nI can't wait to see your next trick, Criss.\n\nThank you everyone, that was a fantastic show!\n",
          "name": "stdout"
        }
      ]
    },
    {
      "metadata": {
        "trusted": true
      },
      "cell_type": "code",
      "source": "#Forgetting to indent\nfor magician in magicians:\nprint(f\"{magician.title()}, that was a great trick!\")",
      "execution_count": 5,
      "outputs": [
        {
          "output_type": "error",
          "ename": "IndentationError",
          "evalue": "expected an indented block (<ipython-input-5-2ed61867a53b>, line 3)",
          "traceback": [
            "\u001b[0;36m  File \u001b[0;32m\"<ipython-input-5-2ed61867a53b>\"\u001b[0;36m, line \u001b[0;32m3\u001b[0m\n\u001b[0;31m    print(f\"{magician.title()}, that was a great trick!\")\u001b[0m\n\u001b[0m        ^\u001b[0m\n\u001b[0;31mIndentationError\u001b[0m\u001b[0;31m:\u001b[0m expected an indented block\n"
          ]
        }
      ]
    },
    {
      "metadata": {
        "trusted": true
      },
      "cell_type": "code",
      "source": "#Indenting unnecessarily\nmagicians = ['houdini', 'david', 'criss']\n    print(magicians)",
      "execution_count": 6,
      "outputs": [
        {
          "output_type": "error",
          "ename": "IndentationError",
          "evalue": "unexpected indent (<ipython-input-6-d284dd9df855>, line 3)",
          "traceback": [
            "\u001b[0;36m  File \u001b[0;32m\"<ipython-input-6-d284dd9df855>\"\u001b[0;36m, line \u001b[0;32m3\u001b[0m\n\u001b[0;31m    print(magicians)\u001b[0m\n\u001b[0m    ^\u001b[0m\n\u001b[0;31mIndentationError\u001b[0m\u001b[0;31m:\u001b[0m unexpected indent\n"
          ]
        }
      ]
    },
    {
      "metadata": {
        "trusted": true
      },
      "cell_type": "code",
      "source": "#Forgetting the colon\nmagicians = ['houdini', 'david', 'criss']\nfor magician in magicians\n    print(magician)",
      "execution_count": 7,
      "outputs": [
        {
          "output_type": "error",
          "ename": "SyntaxError",
          "evalue": "invalid syntax (<ipython-input-7-e242e981cb44>, line 3)",
          "traceback": [
            "\u001b[0;36m  File \u001b[0;32m\"<ipython-input-7-e242e981cb44>\"\u001b[0;36m, line \u001b[0;32m3\u001b[0m\n\u001b[0;31m    for magician in magicians\u001b[0m\n\u001b[0m                             ^\u001b[0m\n\u001b[0;31mSyntaxError\u001b[0m\u001b[0;31m:\u001b[0m invalid syntax\n"
          ]
        }
      ]
    },
    {
      "metadata": {
        "trusted": true
      },
      "cell_type": "code",
      "source": "",
      "execution_count": null,
      "outputs": []
    }
  ],
  "metadata": {
    "kernelspec": {
      "name": "python36",
      "display_name": "Python 3.6",
      "language": "python"
    },
    "language_info": {
      "mimetype": "text/x-python",
      "nbconvert_exporter": "python",
      "name": "python",
      "pygments_lexer": "ipython3",
      "version": "3.6.6",
      "file_extension": ".py",
      "codemirror_mode": {
        "version": 3,
        "name": "ipython"
      }
    }
  },
  "nbformat": 4,
  "nbformat_minor": 2
}