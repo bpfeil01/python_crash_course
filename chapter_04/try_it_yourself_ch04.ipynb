{
  "cells": [
    {
      "metadata": {
        "trusted": true
      },
      "cell_type": "code",
      "source": "#Pizzas\npizzas = ['hawaiin', 'supreme', 'mushroom']\nfor pizza in pizzas:\n    print(f\"I like {pizza} pizza.\")\nprint(f\"\\nI really like pizza!\")",
      "execution_count": 1,
      "outputs": [
        {
          "output_type": "stream",
          "text": "I like hawaiin pizza.\nI like supreme pizza.\nI like mushroom pizza.\n\nI really like pizza!\n",
          "name": "stdout"
        }
      ]
    },
    {
      "metadata": {
        "trusted": true
      },
      "cell_type": "code",
      "source": "#Animals\nanimals = ['tigers', 'giraffes', 'chimps']\nfor animal in animals:\n    print(f\"I like to go to the zoo to visit the {animal}.\")\nprint(\"\\nGoing to the zoo is fun!\")",
      "execution_count": 2,
      "outputs": [
        {
          "output_type": "stream",
          "text": "I like to go to the zoo to visit the tigers.\nI like to go to the zoo to visit the giraffes.\nI like to go to the zoo to visit the chimps.\n\nGoing to the zoo is fun!\n",
          "name": "stdout"
        }
      ]
    },
    {
      "metadata": {
        "trusted": true
      },
      "cell_type": "code",
      "source": "##Count to 20\nfor count in range(1, 21):\n    print(count)",
      "execution_count": 3,
      "outputs": [
        {
          "output_type": "stream",
          "text": "1\n2\n3\n4\n5\n6\n7\n8\n9\n10\n11\n12\n13\n14\n15\n16\n17\n18\n19\n20\n",
          "name": "stdout"
        }
      ]
    },
    {
      "metadata": {
        "trusted": true
      },
      "cell_type": "code",
      "source": "##One in a million, shortned by adding by 10,000\nmillion = list(range(0, 1000001, 10000))\nfor numbers in million:\n    print(numbers)",
      "execution_count": 4,
      "outputs": [
        {
          "output_type": "stream",
          "text": "0\n10000\n20000\n30000\n40000\n50000\n60000\n70000\n80000\n90000\n100000\n110000\n120000\n130000\n140000\n150000\n160000\n170000\n180000\n190000\n200000\n210000\n220000\n230000\n240000\n250000\n260000\n270000\n280000\n290000\n300000\n310000\n320000\n330000\n340000\n350000\n360000\n370000\n380000\n390000\n400000\n410000\n420000\n430000\n440000\n450000\n460000\n470000\n480000\n490000\n500000\n510000\n520000\n530000\n540000\n550000\n560000\n570000\n580000\n590000\n600000\n610000\n620000\n630000\n640000\n650000\n660000\n670000\n680000\n690000\n700000\n710000\n720000\n730000\n740000\n750000\n760000\n770000\n780000\n790000\n800000\n810000\n820000\n830000\n840000\n850000\n860000\n870000\n880000\n890000\n900000\n910000\n920000\n930000\n940000\n950000\n960000\n970000\n980000\n990000\n1000000\n",
          "name": "stdout"
        }
      ]
    },
    {
      "metadata": {
        "trusted": true
      },
      "cell_type": "code",
      "source": "#Sum a million\nmillion = list(range(1, 1000001))\nprint(f\"Max = {max(million)}\")\nprint(f\"Min = {min(million)}\")\nprint(f\"Sum = {sum(million)}\")",
      "execution_count": 7,
      "outputs": [
        {
          "output_type": "stream",
          "text": "Max = 1000000\nMin = 1\nSum = 500000500000\n",
          "name": "stdout"
        }
      ]
    },
    {
      "metadata": {
        "trusted": true,
        "scrolled": true
      },
      "cell_type": "code",
      "source": "#Odd numbers 1 to 20\nodd_numbers = list(range(1, 21, 2))\nfor numbers in odd_numbers:\n    print(numbers)",
      "execution_count": 8,
      "outputs": [
        {
          "output_type": "stream",
          "text": "1\n3\n5\n7\n9\n11\n13\n15\n17\n19\n",
          "name": "stdout"
        }
      ]
    },
    {
      "metadata": {
        "trusted": true
      },
      "cell_type": "code",
      "source": "#Multiples of 3\nmultiples_of_three = list(range(3, 31, 3))\nfor numbers in multiples_of_three:\n    print(numbers)",
      "execution_count": 9,
      "outputs": [
        {
          "output_type": "stream",
          "text": "3\n6\n9\n12\n15\n18\n21\n24\n27\n30\n",
          "name": "stdout"
        }
      ]
    },
    {
      "metadata": {
        "trusted": true
      },
      "cell_type": "code",
      "source": "#Cubes\ncubes = []\nfor value in range(1, 11):\n    cube = value**3\n    cubes.append(cube)\nprint(cubes)",
      "execution_count": 10,
      "outputs": [
        {
          "output_type": "stream",
          "text": "[1, 8, 27, 64, 125, 216, 343, 512, 729, 1000]\n",
          "name": "stdout"
        }
      ]
    },
    {
      "metadata": {
        "trusted": true
      },
      "cell_type": "code",
      "source": "#Cubes comprehension\ncubes = [value**3 for value in range(1, 11)]\nprint(cubes)",
      "execution_count": 11,
      "outputs": [
        {
          "output_type": "stream",
          "text": "[1, 8, 27, 64, 125, 216, 343, 512, 729, 1000]\n",
          "name": "stdout"
        }
      ]
    },
    {
      "metadata": {
        "trusted": true
      },
      "cell_type": "code",
      "source": "",
      "execution_count": null,
      "outputs": []
    }
  ],
  "metadata": {
    "kernelspec": {
      "name": "python36",
      "display_name": "Python 3.6",
      "language": "python"
    },
    "language_info": {
      "mimetype": "text/x-python",
      "nbconvert_exporter": "python",
      "name": "python",
      "pygments_lexer": "ipython3",
      "version": "3.6.6",
      "file_extension": ".py",
      "codemirror_mode": {
        "version": 3,
        "name": "ipython"
      }
    }
  },
  "nbformat": 4,
  "nbformat_minor": 2
}