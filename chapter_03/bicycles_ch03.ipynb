{
  "cells": [
    {
      "metadata": {
        "trusted": true
      },
      "cell_type": "code",
      "source": "bicycles = ['yeti', 'salsa', 'surly', 'specialized']\nprint(bicycles)",
      "execution_count": 1,
      "outputs": [
        {
          "output_type": "stream",
          "text": "['yeti', 'salsa', 'surly', 'specialized']\n",
          "name": "stdout"
        }
      ]
    },
    {
      "metadata": {
        "trusted": true
      },
      "cell_type": "code",
      "source": "print(bicycles[0])",
      "execution_count": 2,
      "outputs": [
        {
          "output_type": "stream",
          "text": "yeti\n",
          "name": "stdout"
        }
      ]
    },
    {
      "metadata": {
        "trusted": true
      },
      "cell_type": "code",
      "source": "print(bicycles[0].title())",
      "execution_count": 3,
      "outputs": [
        {
          "output_type": "stream",
          "text": "Yeti\n",
          "name": "stdout"
        }
      ]
    },
    {
      "metadata": {
        "trusted": true
      },
      "cell_type": "code",
      "source": "print(bicycles[1])\nprint(bicycles[3])",
      "execution_count": 4,
      "outputs": [
        {
          "output_type": "stream",
          "text": "salsa\nspecialized\n",
          "name": "stdout"
        }
      ]
    },
    {
      "metadata": {
        "trusted": true
      },
      "cell_type": "code",
      "source": "print(bicycles[-1])",
      "execution_count": 5,
      "outputs": [
        {
          "output_type": "stream",
          "text": "specialized\n",
          "name": "stdout"
        }
      ]
    },
    {
      "metadata": {
        "trusted": true
      },
      "cell_type": "code",
      "source": "message = f\"I own a {bicycles[2].title()} Instigator 2.0.\"\nprint(message)",
      "execution_count": 7,
      "outputs": [
        {
          "output_type": "stream",
          "text": "I own a Surly Instigator 2.0.\n",
          "name": "stdout"
        }
      ]
    },
    {
      "metadata": {
        "trusted": true
      },
      "cell_type": "code",
      "source": "",
      "execution_count": null,
      "outputs": []
    }
  ],
  "metadata": {
    "kernelspec": {
      "name": "python36",
      "display_name": "Python 3.6",
      "language": "python"
    },
    "language_info": {
      "mimetype": "text/x-python",
      "nbconvert_exporter": "python",
      "name": "python",
      "pygments_lexer": "ipython3",
      "version": "3.6.6",
      "file_extension": ".py",
      "codemirror_mode": {
        "version": 3,
        "name": "ipython"
      }
    }
  },
  "nbformat": 4,
  "nbformat_minor": 2
}