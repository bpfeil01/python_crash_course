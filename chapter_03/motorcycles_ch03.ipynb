{
  "cells": [
    {
      "metadata": {
        "trusted": true
      },
      "cell_type": "code",
      "source": "##This excercise covers the changing, adding, and removal of items in lists",
      "execution_count": null,
      "outputs": []
    },
    {
      "metadata": {
        "trusted": true
      },
      "cell_type": "code",
      "source": "#Replacing item in a list\nmotorcycles = ['harley davidson', 'indian', 'honda']\nprint(motorcycles)\n\nmotorcycles[2] = 'yamaha'\nprint(motorcycles)",
      "execution_count": 1,
      "outputs": [
        {
          "output_type": "stream",
          "text": "['harley davidson', 'indian', 'honda']\n['harley davidson', 'indian', 'yamaha']\n",
          "name": "stdout"
        }
      ]
    },
    {
      "metadata": {
        "trusted": true
      },
      "cell_type": "code",
      "source": "#Appending an item to a list\nmotorcycles.append('honda')\nprint(motorcycles)",
      "execution_count": 2,
      "outputs": [
        {
          "output_type": "stream",
          "text": "['harley davidson', 'indian', 'yamaha', 'honda']\n",
          "name": "stdout"
        }
      ]
    },
    {
      "metadata": {
        "trusted": true
      },
      "cell_type": "code",
      "source": "#Appending to an empty list\nmotorcycles = []\nprint(motorcycles)\n\nmotorcycles.append('harley davidson')\nmotorcycles.append('indian')\nmotorcycles.append('honda')\nprint(motorcycles)",
      "execution_count": 3,
      "outputs": [
        {
          "output_type": "stream",
          "text": "[]\n['harley davidson', 'indian', 'honda']\n",
          "name": "stdout"
        }
      ]
    },
    {
      "metadata": {
        "trusted": true
      },
      "cell_type": "code",
      "source": "#Inserting into defined space\nmotorcycles.insert(0, 'yamaha')\nprint(motorcycles)",
      "execution_count": 4,
      "outputs": [
        {
          "output_type": "stream",
          "text": "['yamaha', 'harley davidson', 'indian', 'honda']\n",
          "name": "stdout"
        }
      ]
    },
    {
      "metadata": {
        "trusted": true
      },
      "cell_type": "code",
      "source": "#Removing from list using del statement, this removes from use forever\ndel(motorcycles[0])\nprint(motorcycles)",
      "execution_count": 5,
      "outputs": [
        {
          "output_type": "stream",
          "text": "['harley davidson', 'indian', 'honda']\n",
          "name": "stdout"
        }
      ]
    },
    {
      "metadata": {
        "trusted": true
      },
      "cell_type": "code",
      "source": "#Removing from list via the pop method to allow for use later, without defined position it pops the last and will continue to\npopped_motorcycle = motorcycles.pop()\nprint(motorcycles)\nprint(popped_motorcycle)",
      "execution_count": 6,
      "outputs": [
        {
          "output_type": "stream",
          "text": "['harley davidson', 'indian']\nhonda\n",
          "name": "stdout"
        }
      ]
    },
    {
      "metadata": {
        "trusted": true
      },
      "cell_type": "code",
      "source": "motorcycles = ['harley davidson', 'indian', 'honda']\nlast_owned = motorcycles.pop()\nprint(f\"The last motorcycle I owned was a {last_owned.title()}.\")",
      "execution_count": 7,
      "outputs": [
        {
          "output_type": "stream",
          "text": "The last motorcycle I owned was a Honda.\n",
          "name": "stdout"
        }
      ]
    },
    {
      "metadata": {
        "trusted": true
      },
      "cell_type": "code",
      "source": "#You can also pop a specific item in the list by index\nmotorcycles = ['harley davidson', 'indian', 'honda']\ndad_cycle = motorcycles.pop(0)\nprint(f\"My Dad rides a {dad_cycle.title()} motorcycle.\")\n\nprint(f\"\\n{motorcycles}\")",
      "execution_count": 8,
      "outputs": [
        {
          "output_type": "stream",
          "text": "My Dad rides a Harley Davidson motorcycle.\n\n['indian', 'honda']\n",
          "name": "stdout"
        }
      ]
    },
    {
      "metadata": {
        "trusted": true
      },
      "cell_type": "code",
      "source": "#The remove() method allows you to remove items based on value\nmotorcycles = ['harley davidson', 'indian', 'honda']\nmotorcycles.remove('indian')\nprint(motorcycles)",
      "execution_count": 9,
      "outputs": [
        {
          "output_type": "stream",
          "text": "['harley davidson', 'honda']\n",
          "name": "stdout"
        }
      ]
    },
    {
      "metadata": {
        "trusted": true
      },
      "cell_type": "code",
      "source": "#You can also use remove to work with value\nmotorcycles = ['harley davidson', 'indian', 'honda']\ntoo_expensive = 'harley davidson'\nmotorcycles.remove(too_expensive)\nprint(motorcycles)\nprint(f\"\\nA {too_expensive.title()} is too expensive for me.\")",
      "execution_count": 10,
      "outputs": [
        {
          "output_type": "stream",
          "text": "['indian', 'honda']\n\nA Harley Davidson is too expensive for me.\n",
          "name": "stdout"
        }
      ]
    }
  ],
  "metadata": {
    "kernelspec": {
      "name": "python36",
      "display_name": "Python 3.6",
      "language": "python"
    },
    "language_info": {
      "mimetype": "text/x-python",
      "nbconvert_exporter": "python",
      "name": "python",
      "pygments_lexer": "ipython3",
      "version": "3.6.6",
      "file_extension": ".py",
      "codemirror_mode": {
        "version": 3,
        "name": "ipython"
      }
    }
  },
  "nbformat": 4,
  "nbformat_minor": 2
}