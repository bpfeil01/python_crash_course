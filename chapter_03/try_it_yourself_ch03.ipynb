{
  "cells": [
    {
      "metadata": {
        "trusted": true
      },
      "cell_type": "code",
      "source": "#Names\nnames = ['Caitlin', 'Eamon', 'Conlon']\nprint(names[0])\nprint(names[-3])\nprint(names[1])\nprint(names[-2])\nprint(names[2])\nprint(names[-1])",
      "execution_count": null,
      "outputs": []
    },
    {
      "metadata": {
        "trusted": true
      },
      "cell_type": "code",
      "source": "#Greetings\nmessage1 = f\"{names[0]}, I love you so much!\"\nprint(message1)\n\nmessage2 = f\"{names[1]}, I love you so much!\"\nprint(message2)\n\nmessage3 = f\"{names[2]}, I love you so much!\"\nprint(message3)",
      "execution_count": null,
      "outputs": []
    },
    {
      "metadata": {
        "trusted": true
      },
      "cell_type": "code",
      "source": "#Your Own List\n\nhobbies = ['fly drones', 'mountain biking', 'running']\n\nmessage1 = f\"I like to go {hobbies[0]}.\"\nprint(message1)\n\nmessage2 = f\"I like to go {hobbies[1]}.\"\nprint(message2)\n\nmessage3 = f\"I like to go {hobbies[2]}.\"\nprint(message3)",
      "execution_count": null,
      "outputs": []
    },
    {
      "metadata": {
        "trusted": true
      },
      "cell_type": "code",
      "source": "#Guest list\nguests = ['Brian', 'Justin', 'Brent']\ninvitation1 = f\"{guests[0]} you are invited!\"\ninvitation2 = f\"\\n{guests[1]} you are invited!\"\ninvitation3 = f\"\\n{guests[2]} you are invited!\"\nprint(invitation1)\nprint(invitation2)\nprint(invitation3)",
      "execution_count": null,
      "outputs": []
    },
    {
      "metadata": {
        "trusted": true,
        "scrolled": true
      },
      "cell_type": "code",
      "source": "#Changing guest list\ndeclined = 'Brent'\nguests[2] = 'Daniel'\ninvitation1 = f\"{guests[0]} you are invited!\"\ninvitation2 = f\"\\n{guests[1]} you are invited!\"\ninvitation3 = f\"\\n{guests[2]} you are invited!\"\nprint(invitation1)\nprint(invitation2)\nprint(invitation3)\nprint(f\"\\n{declined} couldn't make it.\")\nprint(f\"\\n{guests}\")",
      "execution_count": null,
      "outputs": []
    },
    {
      "metadata": {
        "trusted": true
      },
      "cell_type": "code",
      "source": "#We got a bigger table, add some guests\nguests.insert(0, 'Cheryl')\nguests.insert(2, 'Brent')\nguests.append('Holly')\nprint(guests)\ninvitation1 = f\"\\n{guests[0]} you are invited!\"\ninvitation2 = f\"\\n{guests[1]} you are invited!\"\ninvitation3 = f\"\\n{guests[2]} you are invited!\"\ninvitation4 = f\"\\n{guests[3]} you are invited!\"\ninvitation5 = f\"\\n{guests[4]} you are invited!\"\ninvitation6 = f\"\\n{guests[5]} you are invited!\"\nprint(invitation1)\nprint(invitation2)\nprint(invitation3)\nprint(invitation4)\nprint(invitation5)\nprint(invitation6)\nprint(f\"\\nWe got a bigger table!\")",
      "execution_count": null,
      "outputs": []
    },
    {
      "metadata": {
        "trusted": true
      },
      "cell_type": "code",
      "source": "#Shrinking guest list\nprint(f\"\\nApologies, our table won't be big enough.\")\nregrets = guests.pop()\nprint(f\"\\n{regrets}, sorry we won't have room.\")\nregrets = guests.pop()\nprint(f\"\\n{regrets}, sorry we won't have room.\")\nregrets = guests.pop()\nprint(f\"\\n{regrets}, sorry we won't have room.\")\nregrets = guests.pop()\nprint(f\"\\n{regrets}, sorry we won't have room.\")\nprint(f\"\\n{guests}\")\ndel guests[1]\ndel guests[0]\nprint(f\"\\n{guests}\")",
      "execution_count": null,
      "outputs": []
    },
    {
      "metadata": {
        "trusted": true
      },
      "cell_type": "code",
      "source": "#Seeing the world\nplaces = ['Portugal', 'France', 'Ireland', 'Peru']\nprint(places)\nprint(sorted(places))\nprint(places)\nprint(sorted(places, reverse=True))\nprint(places)\nplaces.reverse()\nprint(places)\nplaces.reverse()\nprint(places)\nplaces.sort()\nprint(places)\nplaces.sort(reverse=True)\nprint(places)",
      "execution_count": null,
      "outputs": []
    },
    {
      "metadata": {
        "trusted": true
      },
      "cell_type": "code",
      "source": "#Dinner guests\nguests = ['Brian', 'Justin', 'Brent']\nlen(guests)",
      "execution_count": null,
      "outputs": []
    },
    {
      "metadata": {
        "trusted": true
      },
      "cell_type": "code",
      "source": "",
      "execution_count": null,
      "outputs": []
    }
  ],
  "metadata": {
    "kernelspec": {
      "name": "python36",
      "display_name": "Python 3.6",
      "language": "python"
    },
    "language_info": {
      "mimetype": "text/x-python",
      "nbconvert_exporter": "python",
      "name": "python",
      "pygments_lexer": "ipython3",
      "version": "3.6.6",
      "file_extension": ".py",
      "codemirror_mode": {
        "version": 3,
        "name": "ipython"
      }
    }
  },
  "nbformat": 4,
  "nbformat_minor": 2
}