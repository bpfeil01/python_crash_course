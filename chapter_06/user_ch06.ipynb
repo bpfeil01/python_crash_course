{
  "cells": [
    {
      "metadata": {
        "trusted": true
      },
      "cell_type": "code",
      "source": "#Looping through dictionaries",
      "execution_count": 1,
      "outputs": []
    },
    {
      "metadata": {
        "trusted": true
      },
      "cell_type": "code",
      "source": "user_0 = {\n    'username': 'bpfeil01',\n    'first_name': 'brandon',\n    'last_name': 'pfeil',\n}\n\nfor key, value in user_0.items():\n    print(f\"\\nKey: {key}\")\n    print(f\"Value: {value}\")",
      "execution_count": 10,
      "outputs": [
        {
          "output_type": "stream",
          "text": "\nKey: username\nValue: bpfeil01\n\nKey: first_name\nValue: brandon\n\nKey: last_name\nValue: pfeil\n",
          "name": "stdout"
        }
      ]
    },
    {
      "metadata": {
        "trusted": true
      },
      "cell_type": "code",
      "source": "cool = 'I got a new keyboard, it seems to be pretty awesome'\n\nprint(cool)",
      "execution_count": 9,
      "outputs": [
        {
          "output_type": "stream",
          "text": "I got a new keyboard, it seems to be pretty awesome\n",
          "name": "stdout"
        }
      ]
    },
    {
      "metadata": {
        "trusted": true
      },
      "cell_type": "raw",
      "source": ""
    }
  ],
  "metadata": {
    "kernelspec": {
      "name": "python36",
      "display_name": "Python 3.6",
      "language": "python"
    },
    "language_info": {
      "mimetype": "text/x-python",
      "nbconvert_exporter": "python",
      "name": "python",
      "pygments_lexer": "ipython3",
      "version": "3.6.6",
      "file_extension": ".py",
      "codemirror_mode": {
        "version": 3,
        "name": "ipython"
      }
    }
  },
  "nbformat": 4,
  "nbformat_minor": 1
}