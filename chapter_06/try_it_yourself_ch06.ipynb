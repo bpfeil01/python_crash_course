{
  "cells": [
    {
      "metadata": {
        "trusted": true
      },
      "cell_type": "code",
      "source": "#Person Dictionary\n\nCaitlin = {'first_name': 'Caitlin', 'last_name': 'Shine', 'city': 'Fort Worth'}\n\nprint(Caitlin['first_name'], Caitlin['last_name'])\nprint(Caitlin['city'])",
      "execution_count": 2,
      "outputs": [
        {
          "output_type": "stream",
          "text": "Caitlin Shine\nFort Worth\n",
          "name": "stdout"
        }
      ]
    },
    {
      "metadata": {
        "trusted": true
      },
      "cell_type": "code",
      "source": "#Favorite Numbers (prior to learning to loop through a dictionary)\n\nfavorite_numbers = {'Caitlin': 5, 'Eamon': 8, 'Conlon': 7, 'Brandon': 3}\n\nCaitlin = favorite_numbers['Caitlin']\nEamon = favorite_numbers['Eamon']\nConlon = favorite_numbers['Conlon']\nBrandon = favorite_numbers['Brandon']\n\nprint(f\"Caitlin's favorite number is {Caitlin}.\")\nprint(f\"Eamon's favorite number is {Eamon}.\")\nprint(f\"Conlon's favorite number is {Conlon}.\")\nprint(f\"Brandon's favorite number is {Brandon}.\")",
      "execution_count": 4,
      "outputs": [
        {
          "output_type": "stream",
          "text": "Caitlin's favorite number is 5.\nEamon's favorite number is 8.\nConlon's favorite number is 7.\nBrandon's favorite number is 3.\n",
          "name": "stdout"
        }
      ]
    },
    {
      "metadata": {
        "trusted": true
      },
      "cell_type": "code",
      "source": "#Glossary\n\nglossary = {'class': 'an extensible program code template for creating objects',\n            'object': 'a particular instance of a class',\n            'method': 'a procedure associated with a class, an action that an object is able to perform'}\n\nclasses = glossary['class']\nobjects = glossary['object']\nmethods = glossary['method']\n\nprint(f\"class: {classes}\\nobject: {objects}\\nmethod: {methods}\")\n",
      "execution_count": 9,
      "outputs": [
        {
          "output_type": "stream",
          "text": "class: an extensible program code template for creating objects\nobject: a particular instance of a class\nmethod: a procedure associated with a class, an action that an object is able to perform\n",
          "name": "stdout"
        }
      ]
    },
    {
      "metadata": {
        "trusted": true
      },
      "cell_type": "code",
      "source": "",
      "execution_count": null,
      "outputs": []
    }
  ],
  "metadata": {
    "kernelspec": {
      "name": "python36",
      "display_name": "Python 3.6",
      "language": "python"
    },
    "language_info": {
      "mimetype": "text/x-python",
      "nbconvert_exporter": "python",
      "name": "python",
      "pygments_lexer": "ipython3",
      "version": "3.6.6",
      "file_extension": ".py",
      "codemirror_mode": {
        "version": 3,
        "name": "ipython"
      }
    }
  },
  "nbformat": 4,
  "nbformat_minor": 2
}