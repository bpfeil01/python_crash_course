{
  "cells": [
    {
      "metadata": {
        "trusted": true
      },
      "cell_type": "code",
      "source": "#Person Dictionary\n\nCaitlin = {'first_name': 'Caitlin', 'last_name': 'Shine', 'city': 'Fort Worth'}\n\nprint(Caitlin['first_name'], Caitlin['last_name'])\nprint(Caitlin['city'])",
      "execution_count": 2,
      "outputs": [
        {
          "output_type": "stream",
          "text": "Caitlin Shine\nFort Worth\n",
          "name": "stdout"
        }
      ]
    },
    {
      "metadata": {
        "trusted": true
      },
      "cell_type": "code",
      "source": "#Favorite Numbers (prior to learning to loop through a dictionary)\n\nfavorite_numbers = {'Caitlin': 5, 'Eamon': 8, 'Conlon': 7, 'Brandon': 3}\n\nCaitlin = favorite_numbers['Caitlin']\nEamon = favorite_numbers['Eamon']\nConlon = favorite_numbers['Conlon']\nBrandon = favorite_numbers['Brandon']\n\nprint(f\"Caitlin's favorite number is {Caitlin}.\")\nprint(f\"Eamon's favorite number is {Eamon}.\")\nprint(f\"Conlon's favorite number is {Conlon}.\")\nprint(f\"Brandon's favorite number is {Brandon}.\")",
      "execution_count": 3,
      "outputs": [
        {
          "output_type": "stream",
          "text": "Caitlin's favorite number is 5.\nEamon's favorite number is 8.\nConlon's favorite number is 7.\nBrandon's favorite number is 3.\n",
          "name": "stdout"
        }
      ]
    },
    {
      "metadata": {
        "trusted": true
      },
      "cell_type": "code",
      "source": "#Glossary\n\nglossary = {'class': 'an extensible program code template for creating objects',\n            'object': 'a particular instance of a class',\n            'method': 'a procedure associated with a class, an action that an object is able to perform'}\n\nclasses = glossary['class']\nobjects = glossary['object']\nmethods = glossary['method']\n\nprint(f\"class: {classes}\\nobject: {objects}\\nmethod: {methods}\")\n",
      "execution_count": 4,
      "outputs": [
        {
          "output_type": "stream",
          "text": "class: an extensible program code template for creating objects\nobject: a particular instance of a class\nmethod: a procedure associated with a class, an action that an object is able to perform\n",
          "name": "stdout"
        }
      ]
    },
    {
      "metadata": {
        "trusted": true
      },
      "cell_type": "code",
      "source": "#Glossary 2: Use of looping through key value pairs to clean up code\n\nfor term, definition in glossary.items():\n    print(f\"{term}: {definition}\")",
      "execution_count": 5,
      "outputs": [
        {
          "output_type": "stream",
          "text": "class: an extensible program code template for creating objects\nobject: a particular instance of a class\nmethod: a procedure associated with a class, an action that an object is able to perform\n",
          "name": "stdout"
        }
      ]
    },
    {
      "metadata": {
        "trusted": true
      },
      "cell_type": "code",
      "source": "#Rivers\n\nrivers = {'nile': 'egypt', 'mississippi': 'the united states of america',\n         'rhine': 'germany'}\n\nfor river, country in rivers.items():\n    print(f\"The {river.title()} runs through {country.title()}.\")",
      "execution_count": 6,
      "outputs": [
        {
          "output_type": "stream",
          "text": "The Nile runs through Egypt.\nThe Mississippi runs through The United States Of America.\nThe Rhine runs through Germany.\n",
          "name": "stdout"
        }
      ]
    },
    {
      "metadata": {
        "trusted": true
      },
      "cell_type": "code",
      "source": "\n#Polling\n\nfavorite_languages = {'jen': 'python', 'sarah': 'c',\n                      'edward': 'ruby', 'phil': 'python',}\n\nnames = ['jen', 'sarah', 'edward',\n         'phil', 'eamon', 'conlon']\n\nfor name in names:\n    if name in favorite_languages.keys():\n        print(f\"{name.title()}, thank you for taking our poll!\")\n    else:\n        print(f\"{name.title()}, please remember to take our poll.\")",
      "execution_count": 7,
      "outputs": [
        {
          "output_type": "stream",
          "text": "Jen, thank you for taking our poll!\nSarah, thank you for taking our poll!\nEdward, thank you for taking our poll!\nPhil, thank you for taking our poll!\nEamon, please remember to take our poll.\nConlon, please remember to take our poll.\n",
          "name": "stdout"
        }
      ]
    },
    {
      "metadata": {
        "trusted": true
      },
      "cell_type": "code",
      "source": "#People dictionary\n\nCaitlin = {'first_name': 'caitlin',\n          'last_name': 'shine',\n          'city': 'fort worth',}\n\nJim = {'first_name': 'jim',\n          'last_name': 'pfeil',\n          'city': 'muldoon',}\n\nDede = {'first_name': 'dede',\n          'last_name': 'shine',\n          'city': 'columbus',}\n\npeople = [Caitlin, Jim, Dede]\n\nfor person in people:\n    print(f\"{person['first_name'].title()}\"\n          f\" {person['last_name'].title()}\"\n          f\" lives in {person['city'].title()}.\")",
      "execution_count": 18,
      "outputs": [
        {
          "output_type": "stream",
          "text": "Caitlin Shine lives in Fort Worth.\nJim Pfeil lives in Muldoon.\nDede Shine lives in Columbus.\n",
          "name": "stdout"
        }
      ]
    },
    {
      "metadata": {
        "trusted": true
      },
      "cell_type": "code",
      "source": "Zeus = {'name': 'zeus', \n        'owner': 'jim', \n        'species': 'dog',}\nEmma = {'name': 'emma',\n       'owner': 'tracie',\n       'species': 'dog',}\nCosmo = {'name': 'cosmo',\n        'owner': 'travis',\n        'species': 'cat',}\n\npets = [Zeus, Emma, Cosmo]\n\nfor pet in pets:\n    print(f\"{pet['owner'].title()} has a \"\n          f\"{pet['species']} named {pet['name'].title()}.\")",
      "execution_count": 4,
      "outputs": [
        {
          "output_type": "stream",
          "text": "Jim has a dog named Zeus.\nTracie has a dog named Emma.\nTravis has a cat named Cosmo.\n",
          "name": "stdout"
        }
      ]
    },
    {
      "metadata": {
        "trusted": true
      },
      "cell_type": "code",
      "source": "favorite_places = {'caitlin': ['italy', 'cottage', 'colorado'],\n                  'brandon': ['germany', 'colorado', 'texas gulf coast'],}\n\nfor name, places in favorite_places.items():\n    print(f\"\\n{name.title()}'s favorite places to visit are:\")\n    ##Here we are looping through a list while looping through a dictionary\n    for place in places:\n        print(f\"\\t{place.title()}\")",
      "execution_count": 6,
      "outputs": [
        {
          "output_type": "stream",
          "text": "\nCaitlin's favorite places to visit are:\n\tItaly\n\tCottage\n\tColorado\n\nBrandon's favorite places to visit are:\n\tGermany\n\tColorado\n\tTexas Gulf Coast\n",
          "name": "stdout"
        }
      ]
    },
    {
      "metadata": {
        "trusted": true
      },
      "cell_type": "code",
      "source": "#Multiple favorite numbers and looping\n\nfavorite_numbers = {'caitlin': [5,7,8], 'eamon': [8,2,10],\n                    'conlon': [7,2,5], 'brandon': [3,2,1]}\n\nfor name, numbers in favorite_numbers.items():\n    print(f\"\\n{name.title()}'s favorite numbers are:\")\n    for number in numbers:\n        print(f\"\\t{number}\")",
      "execution_count": 3,
      "outputs": [
        {
          "output_type": "stream",
          "text": "\nCaitlin's favorite numbers are:\n\t5\n\t7\n\t8\n\nEamon's favorite numbers are:\n\t8\n\t2\n\t10\n\nConlon's favorite numbers are:\n\t7\n\t2\n\t5\n\nBrandon's favorite numbers are:\n\t3\n\t2\n\t1\n",
          "name": "stdout"
        }
      ]
    },
    {
      "metadata": {
        "trusted": true
      },
      "cell_type": "code",
      "source": "cities = {'athens': {'est': '3000 BC', 'country': 'greece',},\n         'paris': {'est': '52 BC', 'country': 'france'},\n         'new york': {'est': '1624 AD', 'country': 'united states of america'},}\n\nfor city, city_info in cities.items():\n    print(f\"{city.title()} is a city in {city_info['country'].title()} \"\n         f\"that was established in {city_info['est']}.\")",
      "execution_count": 7,
      "outputs": [
        {
          "output_type": "stream",
          "text": "Athens is a city in Greece that was established in 3000 BC.\nParis is a city in France that was established in 52 BC.\nNew York is a city in United States Of America that was established in 1624 AD.\n",
          "name": "stdout"
        }
      ]
    },
    {
      "metadata": {
        "trusted": true
      },
      "cell_type": "code",
      "source": "",
      "execution_count": null,
      "outputs": []
    }
  ],
  "metadata": {
    "kernelspec": {
      "name": "python36",
      "display_name": "Python 3.6",
      "language": "python"
    },
    "language_info": {
      "mimetype": "text/x-python",
      "nbconvert_exporter": "python",
      "name": "python",
      "pygments_lexer": "ipython3",
      "version": "3.6.6",
      "file_extension": ".py",
      "codemirror_mode": {
        "version": 3,
        "name": "ipython"
      }
    }
  },
  "nbformat": 4,
  "nbformat_minor": 2
}