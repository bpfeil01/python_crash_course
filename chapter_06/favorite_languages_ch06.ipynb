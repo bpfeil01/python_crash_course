{
  "cells": [
    {
      "metadata": {
        "trusted": true
      },
      "cell_type": "code",
      "source": "#Looping example",
      "execution_count": 2,
      "outputs": []
    },
    {
      "metadata": {
        "trusted": true
      },
      "cell_type": "code",
      "source": "favorite_languages = {\n    'jen': 'python',\n    'sarah': 'c',\n    'edward': 'ruby',\n    'phil': 'python',\n}\n\nfor name, language in favorite_languages.items():\n    print(f\"{name.title()}'s favorite language is {language.title()}.\")",
      "execution_count": 3,
      "outputs": [
        {
          "output_type": "stream",
          "text": "Jen's favorite language is Python.\nSarah's favorite language is C.\nEdward's favorite language is Ruby.\nPhil's favorite language is Python.\n",
          "name": "stdout"
        }
      ]
    },
    {
      "metadata": {
        "trusted": true
      },
      "cell_type": "code",
      "source": "#Use keys method to loop just through keys\n\nfor name in favorite_languages.keys():\n    print(name.title())",
      "execution_count": 4,
      "outputs": [
        {
          "output_type": "stream",
          "text": "Jen\nSarah\nEdward\nPhil\n",
          "name": "stdout"
        }
      ]
    },
    {
      "metadata": {
        "trusted": true
      },
      "cell_type": "code",
      "source": "#Keys is also already the default\n\nfor name in favorite_languages:\n    print(name.title())",
      "execution_count": 5,
      "outputs": [
        {
          "output_type": "stream",
          "text": "Jen\nSarah\nEdward\nPhil\n",
          "name": "stdout"
        }
      ]
    },
    {
      "metadata": {
        "trusted": true
      },
      "cell_type": "code",
      "source": "#Looping and using logic\n\nfriends = ['phil', 'sarah']\n\nfor name in favorite_languages.keys():\n    print(f\"Hi {name.title()}.\")\n    \n    if name in friends:\n        language = favorite_languages[name].title()\n        print(f\"\\t{name.title()}, I see you love {language}!\")",
      "execution_count": 6,
      "outputs": [
        {
          "output_type": "stream",
          "text": "Hi Jen.\nHi Sarah.\n\tSarah, I see you love C!\nHi Edward.\nHi Phil.\n\tPhil, I see you love Python!\n",
          "name": "stdout"
        }
      ]
    },
    {
      "metadata": {
        "trusted": true
      },
      "cell_type": "code",
      "source": "if 'erin' not in favorite_languages.keys():\n    print(f\"Erin, please take our poll!\")",
      "execution_count": 7,
      "outputs": [
        {
          "output_type": "stream",
          "text": "Erin, please take our poll!\n",
          "name": "stdout"
        }
      ]
    },
    {
      "metadata": {
        "trusted": true
      },
      "cell_type": "code",
      "source": "for name in favorite_languages.keys():\n    print(f\"{name.title()}, thank you for taking the poll!\")",
      "execution_count": 8,
      "outputs": [
        {
          "output_type": "stream",
          "text": "Jen, thank you for taking the poll!\nSarah, thank you for taking the poll!\nEdward, thank you for taking the poll!\nPhil, thank you for taking the poll!\n",
          "name": "stdout"
        }
      ]
    },
    {
      "metadata": {
        "trusted": true
      },
      "cell_type": "code",
      "source": "#Use the Sorted function to sort the keys\n\nfor name in sorted(favorite_languages.keys()):\n    print(f\"{name.title()}, thank you for taking the poll!\")",
      "execution_count": 9,
      "outputs": [
        {
          "output_type": "stream",
          "text": "Edward, thank you for taking the poll!\nJen, thank you for taking the poll!\nPhil, thank you for taking the poll!\nSarah, thank you for taking the poll!\n",
          "name": "stdout"
        }
      ]
    },
    {
      "metadata": {
        "trusted": true
      },
      "cell_type": "code",
      "source": "#You can also loop through the values using the value method\n\nprint(\"The following languages have been mentioned:\")\nfor language in favorite_languages.values():\n    print(language.title())",
      "execution_count": 10,
      "outputs": [
        {
          "output_type": "stream",
          "text": "The following languages have been mentioned:\nPython\nC\nRuby\nPython\n",
          "name": "stdout"
        }
      ]
    },
    {
      "metadata": {
        "trusted": true
      },
      "cell_type": "code",
      "source": "#You can use the set function to remove duplicates from being reported\n\nprint(\"The following languages have been mentioned:\")\nfor language in set(favorite_languages.values()):\n    print(language.title())",
      "execution_count": 11,
      "outputs": [
        {
          "output_type": "stream",
          "text": "The following languages have been mentioned:\nC\nPython\nRuby\n",
          "name": "stdout"
        }
      ]
    },
    {
      "metadata": {
        "trusted": true
      },
      "cell_type": "code",
      "source": "#List in a dictionary\n\nfavorite_languages = {'jen': ['python', 'ruby'],\n                     'sarah': ['c'],\n                     'edward': ['ruby', 'go'],\n                     'phil': ['python', 'haskell'],\n                     }\n\nfor name, languages in favorite_languages.items():\n    if len(languages) > 1:\n        print(f\"\\n{name.title()}'s favorite languages are:\")\n    else:\n        print(f\"\\n{name.title()}'s favorite language is:\")\n    for language in languages:\n        print(f\"\\t{language.title()}\")",
      "execution_count": 12,
      "outputs": [
        {
          "output_type": "stream",
          "text": "\nJen's favorite languages are:\n\tPython\n\tRuby\n\nSarah's favorite language is:\n\tC\n\nEdward's favorite languages are:\n\tRuby\n\tGo\n\nPhil's favorite languages are:\n\tPython\n\tHaskell\n",
          "name": "stdout"
        }
      ]
    }
  ],
  "metadata": {
    "kernelspec": {
      "name": "python36",
      "display_name": "Python 3.6",
      "language": "python"
    },
    "language_info": {
      "mimetype": "text/x-python",
      "nbconvert_exporter": "python",
      "name": "python",
      "pygments_lexer": "ipython3",
      "version": "3.6.6",
      "file_extension": ".py",
      "codemirror_mode": {
        "version": 3,
        "name": "ipython"
      }
    }
  },
  "nbformat": 4,
  "nbformat_minor": 1
}