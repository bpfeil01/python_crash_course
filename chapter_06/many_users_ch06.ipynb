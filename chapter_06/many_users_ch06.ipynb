{
  "cells": [
    {
      "metadata": {
        "trusted": true
      },
      "cell_type": "code",
      "source": "#Dictionary in a dictionary",
      "execution_count": 2,
      "outputs": []
    },
    {
      "metadata": {
        "trusted": true
      },
      "cell_type": "code",
      "source": "users = {\n    'aeinstein': {\n        'first': 'albert',\n        'last': 'einstein',\n        'location': 'princeton',\n    },\n    \n    'mcurie': {\n        'first': 'marie',\n        'last': 'curie',\n        'location': 'paris',\n    },\n    \n}\n\nfor username, user_info in users.items():\n    print(f\"\\nUsername: {username}\")\n    full_name = f\"{user_info['first']} {user_info['last']}\"\n    location = user_info['location']\n    \n    print(f\"\\tFull name: {full_name.title()}\")\n    print(f\"\\tLocation: {location.title()}\")",
      "execution_count": 7,
      "outputs": [
        {
          "output_type": "stream",
          "text": "\nUsername: aeinstein\n\tFull name: Albert Einstein\n\tLocation: Princeton\n\nUsername: mcurie\n\tFull name: Marie Curie\n\tLocation: Paris\n",
          "name": "stdout"
        }
      ]
    },
    {
      "metadata": {
        "trusted": true
      },
      "cell_type": "code",
      "source": "",
      "execution_count": null,
      "outputs": []
    }
  ],
  "metadata": {
    "kernelspec": {
      "name": "python36",
      "display_name": "Python 3.6",
      "language": "python"
    },
    "language_info": {
      "mimetype": "text/x-python",
      "nbconvert_exporter": "python",
      "name": "python",
      "pygments_lexer": "ipython3",
      "version": "3.6.6",
      "file_extension": ".py",
      "codemirror_mode": {
        "version": 3,
        "name": "ipython"
      }
    }
  },
  "nbformat": 4,
  "nbformat_minor": 1
}