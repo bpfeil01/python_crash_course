{
  "cells": [
    {
      "metadata": {
        "trusted": true
      },
      "cell_type": "code",
      "source": "##Dictionary: allows you to store key value pairs that can be stored for use",
      "execution_count": 2,
      "outputs": []
    },
    {
      "metadata": {
        "trusted": true
      },
      "cell_type": "code",
      "source": "alien_0 = {'color': 'green', 'points': 5}\n\nprint(alien_0['color'])\nprint(alien_0['points'])",
      "execution_count": 3,
      "outputs": [
        {
          "output_type": "stream",
          "text": "green\n5\n",
          "name": "stdout"
        }
      ]
    },
    {
      "metadata": {
        "trusted": true
      },
      "cell_type": "code",
      "source": "new_points = alien_0['points']\nprint(f\"You just earned {new_points} points!\")",
      "execution_count": 4,
      "outputs": [
        {
          "output_type": "stream",
          "text": "You just earned 5 points!\n",
          "name": "stdout"
        }
      ]
    },
    {
      "metadata": {
        "trusted": true
      },
      "cell_type": "code",
      "source": "#You can also add key value pairs; also allows you to start with an empty dictionary",
      "execution_count": 5,
      "outputs": []
    },
    {
      "metadata": {
        "trusted": true
      },
      "cell_type": "code",
      "source": "print(alien_0)\n\nalien_0['x_position'] = 0\nalien_0['y_position'] = 25\nprint(alien_0)",
      "execution_count": 6,
      "outputs": [
        {
          "output_type": "stream",
          "text": "{'color': 'green', 'points': 5}\n{'color': 'green', 'points': 5, 'x_position': 0, 'y_position': 25}\n",
          "name": "stdout"
        }
      ]
    },
    {
      "metadata": {
        "trusted": true
      },
      "cell_type": "code",
      "source": "#You can also modify values",
      "execution_count": 7,
      "outputs": []
    },
    {
      "metadata": {
        "trusted": true
      },
      "cell_type": "code",
      "source": "print(f\"The alien is {alien_0['color']}.\")\n\nalien_0['color'] = 'yellow'\nprint(f\"The alien is now {alien_0['color']}.\")",
      "execution_count": 8,
      "outputs": [
        {
          "output_type": "stream",
          "text": "The alien is green.\nThe alien is now yellow.\n",
          "name": "stdout"
        }
      ]
    },
    {
      "metadata": {
        "trusted": true
      },
      "cell_type": "code",
      "source": "alien_0['speed'] = 'fast'\nprint(f\"Original position: {alien_0['x_position']}\")\n\n#Moving the alien to the right\n#Determine how far to move based on the speed\nif alien_0['speed'] == 'slow':\n    x_increment = 1\nelif alien_0['speed'] == 'medium':\n    x_increment = 2\nelse:\n    #This must be a fast alien\n    x_increment = 3\n\n#The new position of the alien is the old position plus the increment\nalien_0['x_position'] = alien_0['x_position'] + x_increment\n\nprint(f\"New position: {alien_0['x_position']}\")",
      "execution_count": 9,
      "outputs": [
        {
          "output_type": "stream",
          "text": "Original position: 0\nNew position: 3\n",
          "name": "stdout"
        }
      ]
    },
    {
      "metadata": {
        "trusted": true
      },
      "cell_type": "code",
      "source": "#You can also use the del statement to remove key value pairs\nprint(alien_0)\n\ndel alien_0['points']\nprint(alien_0)",
      "execution_count": 10,
      "outputs": [
        {
          "output_type": "stream",
          "text": "{'color': 'yellow', 'points': 5, 'x_position': 3, 'y_position': 25, 'speed': 'fast'}\n{'color': 'yellow', 'x_position': 3, 'y_position': 25, 'speed': 'fast'}\n",
          "name": "stdout"
        }
      ]
    },
    {
      "metadata": {
        "trusted": true
      },
      "cell_type": "code",
      "source": "#Using get() method allows you to return a value if none exists\nprint(alien_0['points'])",
      "execution_count": 11,
      "outputs": [
        {
          "output_type": "error",
          "ename": "KeyError",
          "evalue": "'points'",
          "traceback": [
            "\u001b[0;31m---------------------------------------------------------------------------\u001b[0m",
            "\u001b[0;31mKeyError\u001b[0m                                  Traceback (most recent call last)",
            "\u001b[0;32m<ipython-input-11-cd732e949743>\u001b[0m in \u001b[0;36m<module>\u001b[0;34m\u001b[0m\n\u001b[1;32m      1\u001b[0m \u001b[0;31m#Using get() method allows you to return a value if none exists\u001b[0m\u001b[0;34m\u001b[0m\u001b[0;34m\u001b[0m\u001b[0m\n\u001b[0;32m----> 2\u001b[0;31m \u001b[0mprint\u001b[0m\u001b[0;34m(\u001b[0m\u001b[0malien_0\u001b[0m\u001b[0;34m[\u001b[0m\u001b[0;34m'points'\u001b[0m\u001b[0;34m]\u001b[0m\u001b[0;34m)\u001b[0m\u001b[0;34m\u001b[0m\u001b[0m\n\u001b[0m",
            "\u001b[0;31mKeyError\u001b[0m: 'points'"
          ]
        }
      ]
    },
    {
      "metadata": {
        "trusted": true
      },
      "cell_type": "code",
      "source": "point_value = alien_0.get('points', 'No point value assigned.')\nprint(point_value)",
      "execution_count": 12,
      "outputs": [
        {
          "output_type": "stream",
          "text": "No point value assigned.\n",
          "name": "stdout"
        }
      ]
    },
    {
      "metadata": {
        "trusted": true
      },
      "cell_type": "code",
      "source": "#If second argument in get() method is not defined, 'None' is returned\npoint_value = alien_0.get('points',)\nprint(point_value)",
      "execution_count": 15,
      "outputs": [
        {
          "output_type": "stream",
          "text": "None\n",
          "name": "stdout"
        }
      ]
    },
    {
      "metadata": {
        "trusted": true
      },
      "cell_type": "code",
      "source": "",
      "execution_count": null,
      "outputs": []
    }
  ],
  "metadata": {
    "kernelspec": {
      "name": "python36",
      "display_name": "Python 3.6",
      "language": "python"
    },
    "language_info": {
      "mimetype": "text/x-python",
      "nbconvert_exporter": "python",
      "name": "python",
      "pygments_lexer": "ipython3",
      "version": "3.6.6",
      "file_extension": ".py",
      "codemirror_mode": {
        "version": 3,
        "name": "ipython"
      }
    }
  },
  "nbformat": 4,
  "nbformat_minor": 2
}