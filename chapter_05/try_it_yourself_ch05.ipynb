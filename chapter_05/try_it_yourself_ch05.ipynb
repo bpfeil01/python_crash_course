{
  "cells": [
    {
      "metadata": {
        "trusted": true
      },
      "cell_type": "code",
      "source": "#Conditional Tests",
      "execution_count": 1,
      "outputs": []
    },
    {
      "metadata": {
        "trusted": true
      },
      "cell_type": "code",
      "source": "sky_color = 'blue'\nprint(\"Is sky_color == 'blue?' I predict True.\")\n\nprint(sky_color == 'blue')\n\nprint(\"\\nIs sky_color == 'red'? I predict False.\")\nprint(sky_color == 'red')",
      "execution_count": 3,
      "outputs": [
        {
          "output_type": "stream",
          "text": "Is sky_color == 'blue?' I predict True.\nTrue\n\nIs sky_color == 'red'? I predict False.\nFalse\n",
          "name": "stdout"
        }
      ]
    },
    {
      "metadata": {
        "trusted": true
      },
      "cell_type": "code",
      "source": "#Alien Colors\nalien_color = 'red'\n\nif alien_color == 'green':\n    print(\"5 points\")",
      "execution_count": 1,
      "outputs": []
    },
    {
      "metadata": {
        "trusted": true
      },
      "cell_type": "code",
      "source": "alien_color = 'green'\n\nif alien_color == 'green':\n    print(\"5 points\")",
      "execution_count": 2,
      "outputs": [
        {
          "output_type": "stream",
          "text": "5 points\n",
          "name": "stdout"
        }
      ]
    },
    {
      "metadata": {
        "trusted": true
      },
      "cell_type": "code",
      "source": "#Alien Colors 2\nalien_color = 'red'\n\nif alien_color == 'green':\n    print(\"5 points\")\nelse:\n    print(\"10 points\")",
      "execution_count": 3,
      "outputs": [
        {
          "output_type": "stream",
          "text": "10 points\n",
          "name": "stdout"
        }
      ]
    },
    {
      "metadata": {
        "trusted": true
      },
      "cell_type": "code",
      "source": "alien_color = 'green'\n\nif alien_color == 'green':\n    print(\"5 points\")\nelse:\n    print(\"10 points\")",
      "execution_count": 4,
      "outputs": [
        {
          "output_type": "stream",
          "text": "5 points\n",
          "name": "stdout"
        }
      ]
    },
    {
      "metadata": {
        "trusted": true
      },
      "cell_type": "code",
      "source": "#Alien Colors 3\n\nalien_color = 'green'\n\nif alien_color == 'green':\n    print(\"5 points\")\nelif alien_color == 'yellow':\n    print(\"10 points\")\nelif alien_color == 'red':\n    print(\"15 points\")",
      "execution_count": 6,
      "outputs": [
        {
          "output_type": "stream",
          "text": "5 points\n",
          "name": "stdout"
        }
      ]
    },
    {
      "metadata": {
        "trusted": true
      },
      "cell_type": "code",
      "source": "alien_color = 'red'\n\nif alien_color == 'green':\n    print(\"5 points\")\nelif alien_color == 'yellow':\n    print(\"10 points\")\nelif alien_color == 'red':\n    print(\"15 points\")",
      "execution_count": 7,
      "outputs": [
        {
          "output_type": "stream",
          "text": "15 points\n",
          "name": "stdout"
        }
      ]
    },
    {
      "metadata": {
        "trusted": true
      },
      "cell_type": "code",
      "source": "alien_color = 'yellow'\n\nif alien_color == 'green':\n    print(\"5 points\")\nelif alien_color == 'yellow':\n    print(\"10 points\")\nelif alien_color == 'red':\n    print(\"15 points\")",
      "execution_count": 8,
      "outputs": [
        {
          "output_type": "stream",
          "text": "10 points\n",
          "name": "stdout"
        }
      ]
    },
    {
      "metadata": {
        "trusted": true
      },
      "cell_type": "code",
      "source": "#Stages of Life\nlife_stage = 3\n\nif life_stage < 2:\n    print(\"This person is a baby.\")\nelif life_stage < 4:\n    print(\"This person is a toddler.\")\nelif life_stage < 13:\n    print(\"This person is a kid.\")\nelif life_stage < 20:\n    print(\"This person is a teenager.\")\nelif life_stage < 65:\n    print(\"This person is an adult.\")\nelse:\n    print(\"This person is an elder.\")",
      "execution_count": 9,
      "outputs": [
        {
          "output_type": "stream",
          "text": "This person is a toddler.\n",
          "name": "stdout"
        }
      ]
    },
    {
      "metadata": {
        "trusted": true
      },
      "cell_type": "code",
      "source": "#Favorite Fruit\nfavorite_fruits = ['bananas', 'apples', 'oranges']\n\nif 'bananas' in favorite_fruits:\n    print(\"You really like bananas!\")\nif 'peaches' in favorite_fruits:\n    print(\"You really like peaches!\")\nif 'apples' in favorite_fruits:\n    print(\"You really like apples!\")\nif 'grapes' in favorite_fruits:\n    print(\"You really like grapes!\")\nif 'oranges' in favorite_fruits:\n    print(\"You really like oranges!\")",
      "execution_count": 10,
      "outputs": [
        {
          "output_type": "stream",
          "text": "You really like bananas!\nYou really like apples!\nYou really like oranges!\n",
          "name": "stdout"
        }
      ]
    },
    {
      "metadata": {
        "trusted": true
      },
      "cell_type": "code",
      "source": "#Hello Admin\nusernames = ['admin', 'caitlin', 'brandon', 'eamon', 'conlon']\n\nfor username in usernames:\n    if username == 'admin':\n        print(f\"Hello {username}, would you like to see a status report?\")\n    else:\n        print(f\"Hello {username.title()}, welcome back!\")",
      "execution_count": 16,
      "outputs": [
        {
          "output_type": "stream",
          "text": "Hello admin, would you like to see a status report?\nHello Caitlin, welcome back!\nHello Brandon, welcome back!\nHello Eamon, welcome back!\nHello Conlon, welcome back!\n",
          "name": "stdout"
        }
      ]
    },
    {
      "metadata": {
        "trusted": true
      },
      "cell_type": "code",
      "source": "#No Users\nusernames = []\n\nif usernames:\n    for username in usernames:\n        if username == 'admin':\n            print(f\"Hello {username}, would you like to see a status report?\")\n        else:\n            print(f\"Hello {username.title()}, welcome back!\")\nelse:\n    print(\"We need some users!\")",
      "execution_count": 15,
      "outputs": [
        {
          "output_type": "stream",
          "text": "We need some users!\n",
          "name": "stdout"
        }
      ]
    },
    {
      "metadata": {
        "trusted": true
      },
      "cell_type": "code",
      "source": "#Checking Usernames\ncurrent_users = ['caitlin', 'brandon', 'eamon', 'conlon']\n\nnew_users = ['eamon', 'james', 'conlon', 'lee']\n\nfor new_user in new_users:\n    if new_user in current_users:\n        print(f\"Sorry {new_user.title()} is taken.\")\n    else:\n        print(f\"Welcome {new_user.title()}!\")",
      "execution_count": 19,
      "outputs": [
        {
          "output_type": "stream",
          "text": "Sorry Eamon is taken.\nWelcome James!\nSorry Conlon is taken.\nWelcome Lee!\n",
          "name": "stdout"
        }
      ]
    },
    {
      "metadata": {
        "trusted": true
      },
      "cell_type": "code",
      "source": "#Ordinal Numbers\nnumbers = list(range(1, 10))\n\nfor number in numbers:\n    if number ==  1:\n        print(f\"{number}st\")\n    elif number == 2:\n        print(f\"{number}nd\")\n    elif number == 3:\n        print(f\"{number}rd\")\n    else:\n        print(f\"{number}th\")",
      "execution_count": 22,
      "outputs": [
        {
          "output_type": "stream",
          "text": "1st\n2nd\n3rd\n4th\n5th\n6th\n7th\n8th\n9th\n",
          "name": "stdout"
        }
      ]
    },
    {
      "metadata": {
        "trusted": true
      },
      "cell_type": "code",
      "source": "",
      "execution_count": null,
      "outputs": []
    }
  ],
  "metadata": {
    "kernelspec": {
      "name": "python36",
      "display_name": "Python 3.6",
      "language": "python"
    },
    "language_info": {
      "mimetype": "text/x-python",
      "nbconvert_exporter": "python",
      "name": "python",
      "pygments_lexer": "ipython3",
      "version": "3.6.6",
      "file_extension": ".py",
      "codemirror_mode": {
        "version": 3,
        "name": "ipython"
      }
    }
  },
  "nbformat": 4,
  "nbformat_minor": 2
}