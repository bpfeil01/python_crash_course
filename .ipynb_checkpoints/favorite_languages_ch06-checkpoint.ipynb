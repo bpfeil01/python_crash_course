{
  "cells": [
    {
      "metadata": {
        "trusted": true
      },
      "cell_type": "code",
      "source": "#Looping example",
      "execution_count": 1,
      "outputs": []
    },
    {
      "metadata": {
        "trusted": true
      },
      "cell_type": "code",
      "source": "favorite_languages = {\n    'jen': 'python',\n    'sarah': 'c',\n    'edward': 'ruby',\n    'phil': 'python',\n}\n\nfor name, language in favorite_languages.items():\n    print(f\"{name.title()}'s favorite language is {language.title()}.\")",
      "execution_count": 5,
      "outputs": [
        {
          "output_type": "stream",
          "text": "Jen's favorite language is Python.\nSarah's favorite language is C.\nEdward's favorite language is Ruby.\nPhil's favorite language is Python.\n",
          "name": "stdout"
        }
      ]
    },
    {
      "metadata": {
        "trusted": true
      },
      "cell_type": "code",
      "source": "#Use keys method to loop just through keys\n\nfor name in favorite_languages.keys():\n    print(name.title())",
      "execution_count": 6,
      "outputs": [
        {
          "output_type": "stream",
          "text": "Jen\nSarah\nEdward\nPhil\n",
          "name": "stdout"
        }
      ]
    },
    {
      "metadata": {
        "trusted": true
      },
      "cell_type": "code",
      "source": "#Keys is also already the default\n\nfor name in favorite_languages:\n    print(name.title())",
      "execution_count": 7,
      "outputs": [
        {
          "output_type": "stream",
          "text": "Jen\nSarah\nEdward\nPhil\n",
          "name": "stdout"
        }
      ]
    },
    {
      "metadata": {
        "trusted": true
      },
      "cell_type": "code",
      "source": "#Looping and using logic\n\nfriends = ['phil', 'sarah']\n\nfor name in favorite_languages.keys():\n    print(name.title())\n    \n    if name in friends:\n        language = favorite_languages[name].title()\n        print(f\"\\t{name.title()}, I see you love {language}!\")",
      "execution_count": 12,
      "outputs": [
        {
          "output_type": "stream",
          "text": "Jen\nSarah\n\tSarah, I see you love C!\nEdward\nPhil\n\tPhil, I see you love Python!\n",
          "name": "stdout"
        }
      ]
    },
    {
      "metadata": {
        "trusted": true
      },
      "cell_type": "code",
      "source": "",
      "execution_count": null,
      "outputs": []
    }
  ],
  "metadata": {
    "kernelspec": {
      "name": "python36",
      "display_name": "Python 3.6",
      "language": "python"
    },
    "language_info": {
      "mimetype": "text/x-python",
      "nbconvert_exporter": "python",
      "name": "python",
      "pygments_lexer": "ipython3",
      "version": "3.6.6",
      "file_extension": ".py",
      "codemirror_mode": {
        "version": 3,
        "name": "ipython"
      }
    }
  },
  "nbformat": 4,
  "nbformat_minor": 1
}