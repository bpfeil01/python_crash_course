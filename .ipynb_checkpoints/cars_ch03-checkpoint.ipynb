{
  "cells": [
    {
      "metadata": {
        "trusted": true
      },
      "cell_type": "code",
      "source": "##This exercise is about organizing lists",
      "execution_count": null,
      "outputs": []
    },
    {
      "metadata": {
        "trusted": true
      },
      "cell_type": "code",
      "source": "#Sorting a list, defaults to alphabetic and is permanent using the sort method\ncars = ['bmw', 'audi', 'acura', 'subaru']\ncars.sort()\nprint(cars)",
      "execution_count": null,
      "outputs": []
    },
    {
      "metadata": {
        "trusted": true
      },
      "cell_type": "code",
      "source": "#We can reverse the order as well\ncars.sort(reverse=True)\nprint(cars)",
      "execution_count": null,
      "outputs": []
    },
    {
      "metadata": {
        "trusted": true
      },
      "cell_type": "code",
      "source": "#Sort the list temporarily using sorted function\ncars = ['bmw', 'audi', 'acura', 'subaru']\nprint(\"Here is the original list:\")\nprint(cars)\nprint(f\"\\nHere is a sorted list:\")\nprint(sorted(cars))\nprint(f\"\\nHere is a reverse sorted list:\")\nprint(sorted(cars, reverse=True))\nprint(f\"\\nHere is the original list again:\")\nprint(cars)",
      "execution_count": null,
      "outputs": []
    },
    {
      "metadata": {
        "trusted": true
      },
      "cell_type": "code",
      "source": "#Reversing the order permanantly without alphabetical sorts using reverse method\ncars.reverse()\nprint(cars)",
      "execution_count": null,
      "outputs": []
    },
    {
      "metadata": {
        "trusted": true
      },
      "cell_type": "code",
      "source": "#Finding the length of a list\nlen(cars)",
      "execution_count": null,
      "outputs": []
    },
    {
      "metadata": {
        "trusted": true
      },
      "cell_type": "code",
      "source": "",
      "execution_count": null,
      "outputs": []
    }
  ],
  "metadata": {
    "kernelspec": {
      "name": "python36",
      "display_name": "Python 3.6",
      "language": "python"
    },
    "language_info": {
      "mimetype": "text/x-python",
      "nbconvert_exporter": "python",
      "name": "python",
      "pygments_lexer": "ipython3",
      "version": "3.6.6",
      "file_extension": ".py",
      "codemirror_mode": {
        "version": 3,
        "name": "ipython"
      }
    }
  },
  "nbformat": 4,
  "nbformat_minor": 2
}