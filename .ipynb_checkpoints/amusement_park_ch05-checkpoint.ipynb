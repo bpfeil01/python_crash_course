{
  "cells": [
    {
      "metadata": {
        "trusted": true
      },
      "cell_type": "code",
      "source": "#If-Elif-Else Chain",
      "execution_count": 1,
      "outputs": []
    },
    {
      "metadata": {
        "trusted": true
      },
      "cell_type": "code",
      "source": "#Admission under 4 is free\n#Admission between 4 and 18 is $25\n#Admission for older than 18 is $40\n\nage = 12\n\nif age < 4:\n    print(\"Your admission cost is $0.\")\nelif age < 18:\n    print(\"Your admission cost is $25.\")\nelse:\n    print(\"Your admission cost is $40.\")",
      "execution_count": 2,
      "outputs": [
        {
          "output_type": "stream",
          "text": "Your admission cost is $25.\n",
          "name": "stdout"
        }
      ]
    },
    {
      "metadata": {
        "trusted": true
      },
      "cell_type": "code",
      "source": "age = 12\n\nif age < 4:\n    price = 0\nelif age < 18:\n    price = 25\nelse:\n    price = 40\n\nprint(f\"Your admission cost is ${price}.\")",
      "execution_count": 4,
      "outputs": [
        {
          "output_type": "stream",
          "text": "Your admission cost is $25.\n",
          "name": "stdout"
        }
      ]
    },
    {
      "metadata": {
        "trusted": true
      },
      "cell_type": "code",
      "source": "#Multiple Elif Blocks",
      "execution_count": 5,
      "outputs": []
    },
    {
      "metadata": {
        "trusted": true
      },
      "cell_type": "code",
      "source": "#Admission under 4 is free\n#Admission between 4 and 18 is $25\n#Admission for older than 18 is $40\n#Admission for senior citizens (>65) is $20\n\nage = 12\n\nif age < 4:\n    price = 0\nelif age < 18:\n    price = 25\nelif age < 65:\n    price = 40\nelse:\n    price = 20\n\nprint(f\"Your admission cost is ${price}.\")",
      "execution_count": 1,
      "outputs": [
        {
          "output_type": "stream",
          "text": "Your admission cost is $25.\n",
          "name": "stdout"
        }
      ]
    },
    {
      "metadata": {
        "trusted": true
      },
      "cell_type": "code",
      "source": "#Omitting the Else Block\nage = 12\n\nif age < 4:\n    price = 0\nelif age < 18:\n    price = 25\nelif age < 65:\n    price = 40\nelif age >= 65:\n    price = 20\n\nprint(f\"Your admission cost is ${price}.\")\n#Else block is a catchall that can be omitted",
      "execution_count": 2,
      "outputs": [
        {
          "output_type": "stream",
          "text": "Your admission cost is $25.\n",
          "name": "stdout"
        }
      ]
    },
    {
      "metadata": {
        "trusted": true
      },
      "cell_type": "code",
      "source": "",
      "execution_count": null,
      "outputs": []
    }
  ],
  "metadata": {
    "kernelspec": {
      "name": "python36",
      "display_name": "Python 3.6",
      "language": "python"
    },
    "language_info": {
      "mimetype": "text/x-python",
      "nbconvert_exporter": "python",
      "name": "python",
      "pygments_lexer": "ipython3",
      "version": "3.6.6",
      "file_extension": ".py",
      "codemirror_mode": {
        "version": 3,
        "name": "ipython"
      }
    }
  },
  "nbformat": 4,
  "nbformat_minor": 2
}