{
  "cells": [
    {
      "metadata": {
        "trusted": true
      },
      "cell_type": "code",
      "source": "##Numerical lists",
      "execution_count": 1,
      "outputs": []
    },
    {
      "metadata": {
        "trusted": true
      },
      "cell_type": "code",
      "source": "#Using the range function\nfor value in range(1, 5):\n    print(value)",
      "execution_count": 2,
      "outputs": [
        {
          "output_type": "stream",
          "text": "1\n2\n3\n4\n",
          "name": "stdout"
        }
      ]
    },
    {
      "metadata": {
        "trusted": true
      },
      "cell_type": "code",
      "source": "for value in range(5):\n    print(value)",
      "execution_count": 3,
      "outputs": [
        {
          "output_type": "stream",
          "text": "0\n1\n2\n3\n4\n",
          "name": "stdout"
        }
      ]
    },
    {
      "metadata": {
        "trusted": true
      },
      "cell_type": "code",
      "source": "#Using the list function with range\nnumbers = list(range(1, 6))\nprint(numbers)",
      "execution_count": 4,
      "outputs": [
        {
          "output_type": "stream",
          "text": "[1, 2, 3, 4, 5]\n",
          "name": "stdout"
        }
      ]
    },
    {
      "metadata": {
        "trusted": true
      },
      "cell_type": "code",
      "source": "#Using range to skip numbers\neven_numbers = list(range(2, 11, 2))\nprint(f\"Even numbers 1 to 10:\")\nprint(even_numbers)\n\nodd_numbers = list(range(1, 10, 2))\nprint(f\"\\nOdd numbers 1 to 10:\")\nprint(odd_numbers)",
      "execution_count": 5,
      "outputs": [
        {
          "output_type": "stream",
          "text": "Even numbers 1 to 10:\n[2, 4, 6, 8, 10]\n\nOdd numbers 1 to 10:\n[1, 3, 5, 7, 9]\n",
          "name": "stdout"
        }
      ]
    },
    {
      "metadata": {
        "trusted": true
      },
      "cell_type": "code",
      "source": "#You can create almost any set of numbers you want\nsquares = []\nfor value in range(1, 11):\n    square = value ** 2\n    squares.append(square)\nprint(squares)",
      "execution_count": 6,
      "outputs": [
        {
          "output_type": "stream",
          "text": "[1, 4, 9, 16, 25, 36, 49, 64, 81, 100]\n",
          "name": "stdout"
        }
      ]
    },
    {
      "metadata": {
        "trusted": true
      },
      "cell_type": "code",
      "source": "#Shorter squares\nsquares = []\nfor value in range(1, 11):\n    squares.append(value ** 2)\nprint(squares)",
      "execution_count": 7,
      "outputs": [
        {
          "output_type": "stream",
          "text": "[1, 4, 9, 16, 25, 36, 49, 64, 81, 100]\n",
          "name": "stdout"
        }
      ]
    },
    {
      "metadata": {
        "trusted": true
      },
      "cell_type": "code",
      "source": "#Simple stats\ndigits = list(range(0, 10))\nprint(f\"Digits = {digits}\")\nprint(f\"Min = {min(digits)}\")\nprint(f\"Max = {max(digits)}\")\nprint(f\"Sum = {sum(digits)}\")",
      "execution_count": 8,
      "outputs": [
        {
          "output_type": "stream",
          "text": "Digits = [0, 1, 2, 3, 4, 5, 6, 7, 8, 9]\nMin = 0\nMax = 9\nSum = 45\n",
          "name": "stdout"
        }
      ]
    },
    {
      "metadata": {
        "trusted": true
      },
      "cell_type": "code",
      "source": "#List comprehensions are a simpler way to lists in one line of code\nsquares = [value**2 for value in range(1, 11)]\nprint(squares)",
      "execution_count": 9,
      "outputs": [
        {
          "output_type": "stream",
          "text": "[1, 4, 9, 16, 25, 36, 49, 64, 81, 100]\n",
          "name": "stdout"
        }
      ]
    },
    {
      "metadata": {
        "trusted": true
      },
      "cell_type": "code",
      "source": "",
      "execution_count": null,
      "outputs": []
    }
  ],
  "metadata": {
    "kernelspec": {
      "name": "python36",
      "display_name": "Python 3.6",
      "language": "python"
    },
    "language_info": {
      "mimetype": "text/x-python",
      "nbconvert_exporter": "python",
      "name": "python",
      "pygments_lexer": "ipython3",
      "version": "3.6.6",
      "file_extension": ".py",
      "codemirror_mode": {
        "version": 3,
        "name": "ipython"
      }
    }
  },
  "nbformat": 4,
  "nbformat_minor": 2
}