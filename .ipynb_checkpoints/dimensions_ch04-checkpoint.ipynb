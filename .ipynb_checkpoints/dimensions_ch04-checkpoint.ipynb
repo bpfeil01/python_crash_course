{
  "cells": [
    {
      "metadata": {
        "trusted": true
      },
      "cell_type": "code",
      "source": "##Tuples\n#Tuples are unchanging lists and are defined using parens instead of brackets like lists",
      "execution_count": 1,
      "outputs": []
    },
    {
      "metadata": {
        "trusted": true
      },
      "cell_type": "code",
      "source": "dimensions = (200, 50)\nprint(dimensions[0])\nprint(dimensions[1])",
      "execution_count": 3,
      "outputs": [
        {
          "output_type": "stream",
          "text": "200\n50\n",
          "name": "stdout"
        }
      ]
    },
    {
      "metadata": {
        "trusted": true
      },
      "cell_type": "code",
      "source": "#Example of not being able ot change a list\ndimensions[0] = 250",
      "execution_count": 4,
      "outputs": [
        {
          "output_type": "error",
          "ename": "TypeError",
          "evalue": "'tuple' object does not support item assignment",
          "traceback": [
            "\u001b[0;31m---------------------------------------------------------------------------\u001b[0m",
            "\u001b[0;31mTypeError\u001b[0m                                 Traceback (most recent call last)",
            "\u001b[0;32m<ipython-input-4-00271e61a311>\u001b[0m in \u001b[0;36m<module>\u001b[0;34m\u001b[0m\n\u001b[0;32m----> 1\u001b[0;31m \u001b[0mdimensions\u001b[0m\u001b[0;34m[\u001b[0m\u001b[0;36m0\u001b[0m\u001b[0;34m]\u001b[0m \u001b[0;34m=\u001b[0m \u001b[0;36m250\u001b[0m\u001b[0;34m\u001b[0m\u001b[0m\n\u001b[0m",
            "\u001b[0;31mTypeError\u001b[0m: 'tuple' object does not support item assignment"
          ]
        }
      ]
    },
    {
      "metadata": {
        "trusted": true
      },
      "cell_type": "code",
      "source": "#Tuples are actually defined by the presence of a comma in the parens, if we want a tuple of one you must include a comma\nmy_t = (3,)",
      "execution_count": 5,
      "outputs": []
    },
    {
      "metadata": {
        "trusted": true
      },
      "cell_type": "code",
      "source": "#For loops work with tuples as well\ndimensions = (200, 50)\nfor dimension in dimensions:\n    print(dimension)",
      "execution_count": 6,
      "outputs": [
        {
          "output_type": "stream",
          "text": "200\n50\n",
          "name": "stdout"
        }
      ]
    },
    {
      "metadata": {
        "trusted": true
      },
      "cell_type": "code",
      "source": "#You can't modify a tuple but you can overwrite it completely\ndimensions = (200, 50)\nprint(\"Original Dimensions:\")\nfor dimension in dimensions:\n    print(dimension)\n\ndimensions = (400, 100)\nprint(\"\\nModified Dimensions:\")\nfor dimension in dimensions:\n    print(dimension)",
      "execution_count": 10,
      "outputs": [
        {
          "output_type": "stream",
          "text": "Original Dimensions:\n200\n50\n\nModified Dimensions:\n400\n100\n",
          "name": "stdout"
        }
      ]
    },
    {
      "metadata": {
        "trusted": true
      },
      "cell_type": "code",
      "source": "",
      "execution_count": null,
      "outputs": []
    }
  ],
  "metadata": {
    "kernelspec": {
      "name": "python36",
      "display_name": "Python 3.6",
      "language": "python"
    },
    "language_info": {
      "mimetype": "text/x-python",
      "nbconvert_exporter": "python",
      "name": "python",
      "pygments_lexer": "ipython3",
      "version": "3.6.6",
      "file_extension": ".py",
      "codemirror_mode": {
        "version": 3,
        "name": "ipython"
      }
    }
  },
  "nbformat": 4,
  "nbformat_minor": 2
}