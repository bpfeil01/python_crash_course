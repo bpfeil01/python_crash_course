{
  "cells": [
    {
      "metadata": {
        "trusted": true
      },
      "cell_type": "code",
      "source": "##Copying a list",
      "execution_count": 1,
      "outputs": []
    },
    {
      "metadata": {
        "trusted": true
      },
      "cell_type": "code",
      "source": "my_foods = ['pizza', 'sushi', 'tacos']\nfriends_foods = my_foods[:]\n\nprint(\"My favorite foods are:\")\nprint(my_foods)\n\nprint(\"\\nMy friend's favorite foods:\")\nprint(friends_foods)",
      "execution_count": 2,
      "outputs": [
        {
          "output_type": "stream",
          "text": "My favorite foods are:\n['pizza', 'sushi', 'tacos']\n\nMy friend's favorite foods:\n['pizza', 'sushi', 'tacos']\n",
          "name": "stdout"
        }
      ]
    },
    {
      "metadata": {
        "trusted": true
      },
      "cell_type": "code",
      "source": "my_foods = ['pizza', 'sushi', 'tacos']\nfriends_foods = my_foods[:]\n\nmy_foods.append('cookies')\nfriends_foods.append('ice cream')\n\nprint(\"My favorite foods are:\")\nprint(my_foods)\n\nprint(\"\\nMy friend's favorite foods:\")\nprint(friends_foods)",
      "execution_count": 4,
      "outputs": [
        {
          "output_type": "stream",
          "text": "My favorite foods are:\n['pizza', 'sushi', 'tacos', 'cookies']\n\nMy friend's favorite foods:\n['pizza', 'sushi', 'tacos', 'ice cream']\n",
          "name": "stdout"
        }
      ]
    },
    {
      "metadata": {
        "trusted": true
      },
      "cell_type": "code",
      "source": "",
      "execution_count": null,
      "outputs": []
    }
  ],
  "metadata": {
    "kernelspec": {
      "name": "python36",
      "display_name": "Python 3.6",
      "language": "python"
    },
    "language_info": {
      "mimetype": "text/x-python",
      "nbconvert_exporter": "python",
      "name": "python",
      "pygments_lexer": "ipython3",
      "version": "3.6.6",
      "file_extension": ".py",
      "codemirror_mode": {
        "version": 3,
        "name": "ipython"
      }
    }
  },
  "nbformat": 4,
  "nbformat_minor": 2
}