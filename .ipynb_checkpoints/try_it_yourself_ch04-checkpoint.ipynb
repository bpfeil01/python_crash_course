{
  "cells": [
    {
      "metadata": {
        "trusted": true
      },
      "cell_type": "code",
      "source": "#Pizzas\npizzas = ['hawaiin', 'supreme', 'mushroom']\nfor pizza in pizzas:\n    print(f\"I like {pizza} pizza.\")\nprint(f\"\\nI really like pizza!\")",
      "execution_count": 3,
      "outputs": [
        {
          "output_type": "stream",
          "text": "I like hawaiin pizza.\nI like supreme pizza.\nI like mushroom pizza.\n\nI really like pizza!\n",
          "name": "stdout"
        }
      ]
    },
    {
      "metadata": {
        "trusted": true
      },
      "cell_type": "code",
      "source": "#Animals\nanimals = ['tigers', 'giraffes', 'chimps']\nfor animal in animals:\n    print(f\"I like to go to the zoo to visit the {animal}.\")\nprint(\"\\nGoing to the zoo is fun!\")",
      "execution_count": 4,
      "outputs": [
        {
          "output_type": "stream",
          "text": "I like to go to the zoo to visit the tigers.\nI like to go to the zoo to visit the giraffes.\nI like to go to the zoo to visit the chimps.\n\nGoing to the zoo is fun!\n",
          "name": "stdout"
        }
      ]
    },
    {
      "metadata": {
        "trusted": true
      },
      "cell_type": "code",
      "source": "",
      "execution_count": null,
      "outputs": []
    }
  ],
  "metadata": {
    "kernelspec": {
      "name": "python36",
      "display_name": "Python 3.6",
      "language": "python"
    },
    "language_info": {
      "mimetype": "text/x-python",
      "nbconvert_exporter": "python",
      "name": "python",
      "pygments_lexer": "ipython3",
      "version": "3.6.6",
      "file_extension": ".py",
      "codemirror_mode": {
        "version": 3,
        "name": "ipython"
      }
    }
  },
  "nbformat": 4,
  "nbformat_minor": 2
}