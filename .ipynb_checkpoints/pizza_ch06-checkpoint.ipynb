{
  "cells": [
    {
      "metadata": {
        "trusted": true
      },
      "cell_type": "code",
      "source": "#A list in a dictionary\n#Store information about a pizza being ordered\n\npizza = {'crust': 'thick',\n         'toppings': ['mushrooms', 'extra cheese'],}\n\n#Summarize the order.\nprint(f\"You ordered a {pizza['crust']}-crust pizza \"\n     \"with the following toppings:\")\n\nfor topping in pizza['toppings']:\n    print(f\"\\t{topping}\")",
      "execution_count": 2,
      "outputs": [
        {
          "output_type": "stream",
          "text": "You ordered a thick-crust pizza with the following toppings:\n\tmushrooms\n\textra cheese\n",
          "name": "stdout"
        }
      ]
    },
    {
      "metadata": {
        "trusted": true
      },
      "cell_type": "code",
      "source": "",
      "execution_count": null,
      "outputs": []
    }
  ],
  "metadata": {
    "kernelspec": {
      "name": "python36",
      "display_name": "Python 3.6",
      "language": "python"
    },
    "language_info": {
      "mimetype": "text/x-python",
      "nbconvert_exporter": "python",
      "name": "python",
      "pygments_lexer": "ipython3",
      "version": "3.6.6",
      "file_extension": ".py",
      "codemirror_mode": {
        "version": 3,
        "name": "ipython"
      }
    }
  },
  "nbformat": 4,
  "nbformat_minor": 1
}