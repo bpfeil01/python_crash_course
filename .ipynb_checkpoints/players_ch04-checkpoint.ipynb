{
  "cells": [
    {
      "metadata": {
        "trusted": true
      },
      "cell_type": "code",
      "source": "##Parts of a List",
      "execution_count": null,
      "outputs": []
    },
    {
      "metadata": {
        "trusted": true
      },
      "cell_type": "code",
      "source": "#Slicing a List\n    #Slicing allows to select a portion of a list based on index",
      "execution_count": null,
      "outputs": []
    },
    {
      "metadata": {
        "trusted": true
      },
      "cell_type": "code",
      "source": "players = ['Mahomes','Crabtree','Amendola','Webb, Harrell']\nprint(players[0:3])",
      "execution_count": 4,
      "outputs": [
        {
          "output_type": "stream",
          "text": "['Mahomes', 'Crabtree', 'Amendola']\n",
          "name": "stdout"
        }
      ]
    },
    {
      "metadata": {
        "trusted": true
      },
      "cell_type": "code",
      "source": "players = ['Mahomes','Crabtree','Amendola','Webb, Harrell']\nprint(players[1:4])",
      "execution_count": 5,
      "outputs": [
        {
          "output_type": "stream",
          "text": "['Crabtree', 'Amendola', 'Webb, Harrell']\n",
          "name": "stdout"
        }
      ]
    },
    {
      "metadata": {
        "trusted": true
      },
      "cell_type": "code",
      "source": "    #A blank at the beginning or end will assume that direction through the list\nplayers = ['Mahomes','Crabtree','Amendola','Webb, Harrell']\nprint(players[1:])\nprint(players[:3])",
      "execution_count": 7,
      "outputs": [
        {
          "output_type": "stream",
          "text": "['Crabtree', 'Amendola', 'Webb, Harrell']\n['Mahomes', 'Crabtree', 'Amendola']\n",
          "name": "stdout"
        }
      ]
    },
    {
      "metadata": {
        "trusted": true
      },
      "cell_type": "code",
      "source": "",
      "execution_count": null,
      "outputs": []
    }
  ],
  "metadata": {
    "kernelspec": {
      "name": "python36",
      "display_name": "Python 3.6",
      "language": "python"
    },
    "language_info": {
      "mimetype": "text/x-python",
      "nbconvert_exporter": "python",
      "name": "python",
      "pygments_lexer": "ipython3",
      "version": "3.6.6",
      "file_extension": ".py",
      "codemirror_mode": {
        "version": 3,
        "name": "ipython"
      }
    }
  },
  "nbformat": 4,
  "nbformat_minor": 2
}