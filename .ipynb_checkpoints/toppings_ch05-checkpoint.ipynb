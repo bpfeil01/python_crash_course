{
  "cells": [
    {
      "metadata": {
        "trusted": true
      },
      "cell_type": "code",
      "source": "#Checking for inequality",
      "execution_count": 1,
      "outputs": []
    },
    {
      "metadata": {
        "trusted": true
      },
      "cell_type": "code",
      "source": "requested_topping = 'mushrooms'\n\nif requested_topping != 'anchovies':\n    print('Hold the anchovies!')",
      "execution_count": 2,
      "outputs": [
        {
          "output_type": "stream",
          "text": "Hold the anchovies!\n",
          "name": "stdout"
        }
      ]
    },
    {
      "metadata": {
        "trusted": true
      },
      "cell_type": "code",
      "source": "#Checking whether a value is in a list",
      "execution_count": 1,
      "outputs": []
    },
    {
      "metadata": {
        "trusted": true
      },
      "cell_type": "code",
      "source": "requested_toppings = ['mushrooms', 'onions', 'pineapple']\n'mushrooms' in requested_toppings",
      "execution_count": 2,
      "outputs": [
        {
          "output_type": "execute_result",
          "execution_count": 2,
          "data": {
            "text/plain": "True"
          },
          "metadata": {}
        }
      ]
    },
    {
      "metadata": {
        "trusted": true
      },
      "cell_type": "code",
      "source": "'pepperoni' in requested_toppings",
      "execution_count": 3,
      "outputs": [
        {
          "output_type": "execute_result",
          "execution_count": 3,
          "data": {
            "text/plain": "False"
          },
          "metadata": {}
        }
      ]
    },
    {
      "metadata": {
        "trusted": true
      },
      "cell_type": "code",
      "source": "#Testing Multiple Conditions\n\nrequested_toppings = ['ham', 'pineapple', 'mushroom']\n\nif 'mushroom' in requested_toppings:\n    print(\"Adding mushrooms.\")\nif 'pepperoni' in requested_toppings:\n    print(\"Adding pepperoni.\")\nif 'pineapple' in requested_toppings:\n    print(\"Adding pineapple.\")\nif 'ham' in requested_toppings:\n    print(\"Adding ham.\")\nif 'extra cheese' in requested_toppings:\n    print(\"Adding extra cheese.\")\n    \nprint(\"\\nFinished making your pizza!\")\n#Using elif we would only pass the first true and not include the remaining",
      "execution_count": 1,
      "outputs": [
        {
          "output_type": "stream",
          "text": "Adding mushrooms.\nAdding pineapple.\nAdding ham.\n\nFinished making your pizza!\n",
          "name": "stdout"
        }
      ]
    },
    {
      "metadata": {
        "trusted": true
      },
      "cell_type": "code",
      "source": "#Checking For Special Items\nrequested_toppings = ['ham', 'pineapple', 'mushroom']\n\nfor requested_topping in requested_toppings:\n    if requested_topping == 'mushroom':\n        print(\"Sorry we are out of mushrooms right now.\")\n    else:\n        print(f\"Adding {requested_topping}.\")\n\nprint(\"\\nFinished making your pizza!\")",
      "execution_count": 2,
      "outputs": [
        {
          "output_type": "stream",
          "text": "Adding ham.\nAdding pineapple.\nSorry we are out of mushrooms right now.\n\nFinished making your pizza!\n",
          "name": "stdout"
        }
      ]
    },
    {
      "metadata": {
        "trusted": true
      },
      "cell_type": "code",
      "source": "#Checking That a List Is Not Empty\n\nrequested_toppings = []\n\nif requested_toppings: #We are returning true if list has an item, false if none\n    for requested_topping in requested_toppings:\n        print(f\"Adding {requested_topping}.\")\n    print(\"\\nFinished making your pizza!\")\nelse:\n    print(\"Are you sure you want a plain pizza?\")",
      "execution_count": 3,
      "outputs": [
        {
          "output_type": "stream",
          "text": "Are you sure you want a plain pizza?\n",
          "name": "stdout"
        }
      ]
    },
    {
      "metadata": {
        "trusted": true
      },
      "cell_type": "code",
      "source": "#Using Multiple Lists\n\navailable_toppings = ['pepperoni', 'olives', 'ham', 'pineapple', 'mushroom', 'onion',\n                     'extra cheese', 'green peppers']\n\nrequested_toppings = ['ham', 'french fries', 'pineapple']\n\nfor requested_topping in requested_toppings:\n    if requested_topping in available_toppings:\n        print(f\"Adding {requested_topping}.\")\n    else:\n        print(f\"Sorry, we don't have {requested_topping}.\")\n        \nprint(\"\\nFinished making your pizza!\")",
      "execution_count": 6,
      "outputs": [
        {
          "output_type": "stream",
          "text": "Adding ham.\nSorry, we don't have french fries.\nAdding pineapple.\n\nFinished making your pizza!\n",
          "name": "stdout"
        }
      ]
    },
    {
      "metadata": {
        "trusted": true
      },
      "cell_type": "code",
      "source": "",
      "execution_count": null,
      "outputs": []
    }
  ],
  "metadata": {
    "kernelspec": {
      "name": "python36",
      "display_name": "Python 3.6",
      "language": "python"
    },
    "language_info": {
      "mimetype": "text/x-python",
      "nbconvert_exporter": "python",
      "name": "python",
      "pygments_lexer": "ipython3",
      "version": "3.6.6",
      "file_extension": ".py",
      "codemirror_mode": {
        "version": 3,
        "name": "ipython"
      }
    }
  },
  "nbformat": 4,
  "nbformat_minor": 2
}