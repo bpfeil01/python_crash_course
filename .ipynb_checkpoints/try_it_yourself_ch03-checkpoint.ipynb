{
  "cells": [
    {
      "metadata": {
        "trusted": true
      },
      "cell_type": "code",
      "source": "#Names\nnames = ['Caitlin', 'Eamon', 'Conlon']\nprint(names[0])\nprint(names[-3])\nprint(names[1])\nprint(names[-2])\nprint(names[2])\nprint(names[-1])",
      "execution_count": 3,
      "outputs": [
        {
          "output_type": "stream",
          "text": "Caitlin\nCaitlin\nEamon\nEamon\nConlon\nConlon\n",
          "name": "stdout"
        }
      ]
    },
    {
      "metadata": {
        "trusted": true
      },
      "cell_type": "code",
      "source": "#Greetings\nmessage1 = f\"{names[0]}, I love you so much!\"\nprint(message1)\n\nmessage2 = f\"{names[1]}, I love you so much!\"\nprint(message2)\n\nmessage3 = f\"{names[2]}, I love you so much!\"\nprint(message3)",
      "execution_count": 7,
      "outputs": [
        {
          "output_type": "stream",
          "text": "Caitlin, I love you so much!\nEamon, I love you so much!\nConlon, I love you so much!\n",
          "name": "stdout"
        }
      ]
    },
    {
      "metadata": {
        "trusted": true
      },
      "cell_type": "code",
      "source": "#Your Own List\n\nhobbies = ['fly drones', 'mountain biking', 'running']\n\nmessage1 = f\"I like to go {hobbies[0]}.\"\nprint(message1)\n\nmessage2 = f\"I like to go {hobbies[1]}.\"\nprint(message2)\n\nmessage3 = f\"I like to go {hobbies[2]}.\"\nprint(message3)",
      "execution_count": 12,
      "outputs": [
        {
          "output_type": "stream",
          "text": "I like to go fly drones.\nI like to go mountain biking.\nI like to go running.\n",
          "name": "stdout"
        }
      ]
    },
    {
      "metadata": {
        "trusted": true
      },
      "cell_type": "code",
      "source": "",
      "execution_count": null,
      "outputs": []
    }
  ],
  "metadata": {
    "kernelspec": {
      "name": "python36",
      "display_name": "Python 3.6",
      "language": "python"
    },
    "language_info": {
      "mimetype": "text/x-python",
      "nbconvert_exporter": "python",
      "name": "python",
      "pygments_lexer": "ipython3",
      "version": "3.6.6",
      "file_extension": ".py",
      "codemirror_mode": {
        "version": 3,
        "name": "ipython"
      }
    }
  },
  "nbformat": 4,
  "nbformat_minor": 2
}