{
  "cells": [
    {
      "metadata": {
        "trusted": true
      },
      "cell_type": "code",
      "source": "#If Statements",
      "execution_count": 1,
      "outputs": []
    },
    {
      "metadata": {
        "trusted": true
      },
      "cell_type": "code",
      "source": "age = 19\nif age >= 18:\n    print(\"You are old enough to vote!\")",
      "execution_count": 2,
      "outputs": [
        {
          "output_type": "stream",
          "text": "You are old enough to vote!\n",
          "name": "stdout"
        }
      ]
    },
    {
      "metadata": {
        "trusted": true
      },
      "cell_type": "code",
      "source": "age = 19\nif age >= 18:\n    print(\"You are old enough to vote!\")\n    print(\"Have you registered to vote yet?\")",
      "execution_count": 3,
      "outputs": [
        {
          "output_type": "stream",
          "text": "You are old enough to vote!\nHave you registered to vote yet?\n",
          "name": "stdout"
        }
      ]
    },
    {
      "metadata": {
        "trusted": true
      },
      "cell_type": "code",
      "source": "age = 17\nif age >= 18:\n    print(\"You are old enough to vote!\")\n    print(\"Have you registered to vote yet?\")\n    #nothing produced in this case if condition is not true",
      "execution_count": 5,
      "outputs": []
    },
    {
      "metadata": {
        "trusted": true
      },
      "cell_type": "code",
      "source": "#If-Else Statements",
      "execution_count": 6,
      "outputs": []
    },
    {
      "metadata": {
        "trusted": true
      },
      "cell_type": "code",
      "source": "age = 17\nif age >= 18:\n    print(\"You are old enough to vote!\")\n    print(\"Have you registered to vote yet?\")\nelse:\n    print(\"Sorry, you are too young to vote.\")\n    print(\"Please register to vote as soon as you turn 18!\")",
      "execution_count": 7,
      "outputs": [
        {
          "output_type": "stream",
          "text": "Sorry, you are too young to vote.\nPlease register to vote as soon as you turn 18!\n",
          "name": "stdout"
        }
      ]
    },
    {
      "metadata": {
        "trusted": true
      },
      "cell_type": "code",
      "source": "",
      "execution_count": 8,
      "outputs": []
    },
    {
      "metadata": {
        "trusted": true
      },
      "cell_type": "code",
      "source": "",
      "execution_count": null,
      "outputs": []
    }
  ],
  "metadata": {
    "kernelspec": {
      "name": "python36",
      "display_name": "Python 3.6",
      "language": "python"
    },
    "language_info": {
      "mimetype": "text/x-python",
      "nbconvert_exporter": "python",
      "name": "python",
      "pygments_lexer": "ipython3",
      "version": "3.6.6",
      "file_extension": ".py",
      "codemirror_mode": {
        "version": 3,
        "name": "ipython"
      }
    }
  },
  "nbformat": 4,
  "nbformat_minor": 2
}