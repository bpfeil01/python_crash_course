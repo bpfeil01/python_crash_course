{
  "cells": [
    {
      "metadata": {
        "trusted": true
      },
      "cell_type": "code",
      "source": "##Integers\nprint(2 + 3)\nprint(3 - 2)\nprint(2 * 3)\nprint(3 / 2)\nprint(3 ** 2)\n\n#Order of Operations can be changed with parens\nprint(2 + 3*4)\nprint((2 + 3) * 4)",
      "execution_count": 4,
      "outputs": [
        {
          "output_type": "stream",
          "text": "5\n1\n6\n1.5\n9\n14\n20\n",
          "name": "stdout"
        }
      ]
    },
    {
      "metadata": {
        "trusted": true
      },
      "cell_type": "code",
      "source": "##Floats are any number with decimals\nprint(0.1 + 0.1)\nprint(2 * 0.1)\n\n#Sometimes you get arbitrary numbers\nprint(0.2 + 0.1)\n",
      "execution_count": 5,
      "outputs": [
        {
          "output_type": "stream",
          "text": "0.2\n0.2\n0.30000000000000004\n",
          "name": "stdout"
        }
      ]
    },
    {
      "metadata": {
        "trusted": true
      },
      "cell_type": "code",
      "source": "##Integers and Floats\n\n#Any division results in floats\nprint(4 / 2)\n\n#Mixing integers and floats results in floats\nprint(1 + 2.0)",
      "execution_count": 8,
      "outputs": [
        {
          "output_type": "stream",
          "text": "2.0\n3.0\n",
          "name": "stdout"
        }
      ]
    },
    {
      "metadata": {
        "trusted": true
      },
      "cell_type": "code",
      "source": "##Underscores can be used to make numbersmore readable\nuniverse_age = 14_000_000_000\nprint(universe_age)",
      "execution_count": 9,
      "outputs": [
        {
          "output_type": "stream",
          "text": "14000000000\n",
          "name": "stdout"
        }
      ]
    },
    {
      "metadata": {
        "trusted": true
      },
      "cell_type": "code",
      "source": "##Constants stay for duration of program, Python does not have constant types\n#Pratice for constants is all CAPS\nMAX_CONNECTIONS = 5000",
      "execution_count": 10,
      "outputs": []
    },
    {
      "metadata": {
        "trusted": true
      },
      "cell_type": "code",
      "source": "##Number 8\nprint(4 + 4)\nprint(10 - 2)\nprint(4 * 2)\nprint(16 / 2)",
      "execution_count": 11,
      "outputs": [
        {
          "output_type": "stream",
          "text": "8\n8\n8\n8.0\n",
          "name": "stdout"
        }
      ]
    },
    {
      "metadata": {
        "trusted": true
      },
      "cell_type": "code",
      "source": "##Favorite Number\nfavorite_number = 22\nprint(f\"My favorite number is {favorite_number}.\")",
      "execution_count": 12,
      "outputs": [
        {
          "output_type": "stream",
          "text": "My favorite number is 22.\n",
          "name": "stdout"
        }
      ]
    },
    {
      "metadata": {
        "trusted": true
      },
      "cell_type": "code",
      "source": "##Multiple Assignment\nx, y, z = 1, 2, 3\nprint(x, y, z)\nprint(y)\nprint(z)",
      "execution_count": 15,
      "outputs": [
        {
          "output_type": "stream",
          "text": "1 2 3\n2\n3\n",
          "name": "stdout"
        }
      ]
    },
    {
      "metadata": {
        "trusted": true
      },
      "cell_type": "code",
      "source": "",
      "execution_count": null,
      "outputs": []
    }
  ],
  "metadata": {
    "kernelspec": {
      "name": "python36",
      "display_name": "Python 3.6",
      "language": "python"
    },
    "language_info": {
      "mimetype": "text/x-python",
      "nbconvert_exporter": "python",
      "name": "python",
      "pygments_lexer": "ipython3",
      "version": "3.6.6",
      "file_extension": ".py",
      "codemirror_mode": {
        "version": 3,
        "name": "ipython"
      }
    }
  },
  "nbformat": 4,
  "nbformat_minor": 2
}