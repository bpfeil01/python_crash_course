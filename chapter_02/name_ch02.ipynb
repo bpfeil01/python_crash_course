{
  "cells": [
    {
      "metadata": {
        "trusted": true
      },
      "cell_type": "code",
      "source": "name = \"ada lovelace\"\nprint(name.title())",
      "execution_count": 1,
      "outputs": [
        {
          "output_type": "stream",
          "text": "Ada Lovelace\n",
          "name": "stdout"
        }
      ]
    },
    {
      "metadata": {
        "trusted": true
      },
      "cell_type": "code",
      "source": "name = \"Ada Lovelace\"\nprint(name.upper())\nprint(name.lower())",
      "execution_count": 2,
      "outputs": [
        {
          "output_type": "stream",
          "text": "ADA LOVELACE\nada lovelace\n",
          "name": "stdout"
        }
      ]
    },
    {
      "metadata": {
        "trusted": true
      },
      "cell_type": "code",
      "source": "#This code displays the use of f-strings(first introduced in 3.6). This is a formatting\n  #string that in this example will replace the variables in the string with their \n  #respective values\nfirst_name = \"ada\"\nlast_name = \"lovelace\"\nfull_name = f\"{first_name} {last_name}\"\nprint(full_name)",
      "execution_count": 10,
      "outputs": [
        {
          "output_type": "stream",
          "text": "ada lovelace\n",
          "name": "stdout"
        }
      ]
    },
    {
      "metadata": {
        "trusted": true
      },
      "cell_type": "code",
      "source": "first_name = \"ada\"\nlast_name = \"lovelace\"\nfull_name = f\"{first_name} {last_name}\"\nprint(full_name.title())",
      "execution_count": 6,
      "outputs": [
        {
          "output_type": "stream",
          "text": "Ada Lovelace\n",
          "name": "stdout"
        }
      ]
    },
    {
      "metadata": {
        "trusted": true
      },
      "cell_type": "code",
      "source": "first_name = \"ada\"\nlast_name = \"lovelace\"\nfull_name = f\"{first_name} {last_name}\"\nprint(f\"Hello, {full_name.title()}!\")",
      "execution_count": 7,
      "outputs": [
        {
          "output_type": "stream",
          "text": "Hello, Ada Lovelace!\n",
          "name": "stdout"
        }
      ]
    },
    {
      "metadata": {
        "trusted": true
      },
      "cell_type": "code",
      "source": "first_name = \"ada\"\nlast_name = \"lovelace\"\nfull_name = f\"{first_name} {last_name}\"\nmessage = f\"Hello, {full_name.title()}!\"\nprint(message)",
      "execution_count": 8,
      "outputs": [
        {
          "output_type": "stream",
          "text": "Hello, Ada Lovelace!\n",
          "name": "stdout"
        }
      ]
    },
    {
      "metadata": {
        "trusted": true
      },
      "cell_type": "code",
      "source": "",
      "execution_count": null,
      "outputs": []
    }
  ],
  "metadata": {
    "kernelspec": {
      "name": "python36",
      "display_name": "Python 3.6",
      "language": "python"
    },
    "language_info": {
      "mimetype": "text/x-python",
      "nbconvert_exporter": "python",
      "name": "python",
      "pygments_lexer": "ipython3",
      "version": "3.6.6",
      "file_extension": ".py",
      "codemirror_mode": {
        "version": 3,
        "name": "ipython"
      }
    }
  },
  "nbformat": 4,
  "nbformat_minor": 2
}